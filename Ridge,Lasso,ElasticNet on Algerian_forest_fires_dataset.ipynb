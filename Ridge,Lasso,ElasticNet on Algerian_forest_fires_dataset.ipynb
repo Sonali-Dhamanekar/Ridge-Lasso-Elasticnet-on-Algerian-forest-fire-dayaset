{
 "cells": [
  {
   "cell_type": "markdown",
   "id": "f84aa000",
   "metadata": {},
   "source": [
    "#                                    EDA on Algerian_forest_fires_dataset"
   ]
  },
  {
   "cell_type": "code",
   "execution_count": 1,
   "id": "4b8b6b3d",
   "metadata": {},
   "outputs": [],
   "source": [
    "import pandas as pd\n",
    "import numpy as np\n",
    "import matplotlib.pyplot as plt\n",
    "import seaborn as sns\n",
    "import plotly.express as px\n",
    "import warnings\n",
    "from six.moves import urllib\n",
    "\n",
    "warnings.filterwarnings(\"ignore\")\n",
    "\n",
    "%matplotlib inline"
   ]
  },
  {
   "cell_type": "code",
   "execution_count": 2,
   "id": "ce0b8a28",
   "metadata": {},
   "outputs": [],
   "source": [
    "df=pd.read_csv(\"C:\\\\Users\\\\sonal\\\\Downloads\\\\Algerian_forest_fires_dataset_UPDATE.csv\",header=1)"
   ]
  },
  {
   "cell_type": "code",
   "execution_count": 3,
   "id": "5243afc7",
   "metadata": {},
   "outputs": [
    {
     "data": {
      "text/html": [
       "<div>\n",
       "<style scoped>\n",
       "    .dataframe tbody tr th:only-of-type {\n",
       "        vertical-align: middle;\n",
       "    }\n",
       "\n",
       "    .dataframe tbody tr th {\n",
       "        vertical-align: top;\n",
       "    }\n",
       "\n",
       "    .dataframe thead th {\n",
       "        text-align: right;\n",
       "    }\n",
       "</style>\n",
       "<table border=\"1\" class=\"dataframe\">\n",
       "  <thead>\n",
       "    <tr style=\"text-align: right;\">\n",
       "      <th></th>\n",
       "      <th>day</th>\n",
       "      <th>month</th>\n",
       "      <th>year</th>\n",
       "      <th>Temperature</th>\n",
       "      <th>RH</th>\n",
       "      <th>Ws</th>\n",
       "      <th>Rain</th>\n",
       "      <th>FFMC</th>\n",
       "      <th>DMC</th>\n",
       "      <th>DC</th>\n",
       "      <th>ISI</th>\n",
       "      <th>BUI</th>\n",
       "      <th>FWI</th>\n",
       "      <th>Classes</th>\n",
       "      <th>Region</th>\n",
       "    </tr>\n",
       "  </thead>\n",
       "  <tbody>\n",
       "    <tr>\n",
       "      <th>0</th>\n",
       "      <td>1</td>\n",
       "      <td>6</td>\n",
       "      <td>2012</td>\n",
       "      <td>29</td>\n",
       "      <td>57</td>\n",
       "      <td>18</td>\n",
       "      <td>0</td>\n",
       "      <td>65.7</td>\n",
       "      <td>3.4</td>\n",
       "      <td>7.6</td>\n",
       "      <td>1.3</td>\n",
       "      <td>3.4</td>\n",
       "      <td>0.5</td>\n",
       "      <td>not fire</td>\n",
       "      <td>1.0</td>\n",
       "    </tr>\n",
       "    <tr>\n",
       "      <th>1</th>\n",
       "      <td>2</td>\n",
       "      <td>6</td>\n",
       "      <td>2012</td>\n",
       "      <td>29</td>\n",
       "      <td>61</td>\n",
       "      <td>13</td>\n",
       "      <td>1.3</td>\n",
       "      <td>64.4</td>\n",
       "      <td>4.1</td>\n",
       "      <td>7.6</td>\n",
       "      <td>1</td>\n",
       "      <td>3.9</td>\n",
       "      <td>0.4</td>\n",
       "      <td>not fire</td>\n",
       "      <td>1.0</td>\n",
       "    </tr>\n",
       "    <tr>\n",
       "      <th>2</th>\n",
       "      <td>3</td>\n",
       "      <td>6</td>\n",
       "      <td>2012</td>\n",
       "      <td>26</td>\n",
       "      <td>82</td>\n",
       "      <td>22</td>\n",
       "      <td>13.1</td>\n",
       "      <td>47.1</td>\n",
       "      <td>2.5</td>\n",
       "      <td>7.1</td>\n",
       "      <td>0.3</td>\n",
       "      <td>2.7</td>\n",
       "      <td>0.1</td>\n",
       "      <td>not fire</td>\n",
       "      <td>1.0</td>\n",
       "    </tr>\n",
       "    <tr>\n",
       "      <th>3</th>\n",
       "      <td>4</td>\n",
       "      <td>6</td>\n",
       "      <td>2012</td>\n",
       "      <td>25</td>\n",
       "      <td>89</td>\n",
       "      <td>13</td>\n",
       "      <td>2.5</td>\n",
       "      <td>28.6</td>\n",
       "      <td>1.3</td>\n",
       "      <td>6.9</td>\n",
       "      <td>0</td>\n",
       "      <td>1.7</td>\n",
       "      <td>0</td>\n",
       "      <td>not fire</td>\n",
       "      <td>1.0</td>\n",
       "    </tr>\n",
       "    <tr>\n",
       "      <th>4</th>\n",
       "      <td>5</td>\n",
       "      <td>6</td>\n",
       "      <td>2012</td>\n",
       "      <td>27</td>\n",
       "      <td>77</td>\n",
       "      <td>16</td>\n",
       "      <td>0</td>\n",
       "      <td>64.8</td>\n",
       "      <td>3</td>\n",
       "      <td>14.2</td>\n",
       "      <td>1.2</td>\n",
       "      <td>3.9</td>\n",
       "      <td>0.5</td>\n",
       "      <td>not fire</td>\n",
       "      <td>1.0</td>\n",
       "    </tr>\n",
       "    <tr>\n",
       "      <th>...</th>\n",
       "      <td>...</td>\n",
       "      <td>...</td>\n",
       "      <td>...</td>\n",
       "      <td>...</td>\n",
       "      <td>...</td>\n",
       "      <td>...</td>\n",
       "      <td>...</td>\n",
       "      <td>...</td>\n",
       "      <td>...</td>\n",
       "      <td>...</td>\n",
       "      <td>...</td>\n",
       "      <td>...</td>\n",
       "      <td>...</td>\n",
       "      <td>...</td>\n",
       "      <td>...</td>\n",
       "    </tr>\n",
       "    <tr>\n",
       "      <th>242</th>\n",
       "      <td>26</td>\n",
       "      <td>9</td>\n",
       "      <td>2012</td>\n",
       "      <td>30</td>\n",
       "      <td>65</td>\n",
       "      <td>14</td>\n",
       "      <td>0</td>\n",
       "      <td>85.4</td>\n",
       "      <td>16</td>\n",
       "      <td>44.5</td>\n",
       "      <td>4.5</td>\n",
       "      <td>16.9</td>\n",
       "      <td>6.5</td>\n",
       "      <td>fire</td>\n",
       "      <td>0.0</td>\n",
       "    </tr>\n",
       "    <tr>\n",
       "      <th>243</th>\n",
       "      <td>27</td>\n",
       "      <td>9</td>\n",
       "      <td>2012</td>\n",
       "      <td>28</td>\n",
       "      <td>87</td>\n",
       "      <td>15</td>\n",
       "      <td>4.4</td>\n",
       "      <td>41.1</td>\n",
       "      <td>6.5</td>\n",
       "      <td>8</td>\n",
       "      <td>0.1</td>\n",
       "      <td>6.2</td>\n",
       "      <td>0</td>\n",
       "      <td>not fire</td>\n",
       "      <td>0.0</td>\n",
       "    </tr>\n",
       "    <tr>\n",
       "      <th>244</th>\n",
       "      <td>28</td>\n",
       "      <td>9</td>\n",
       "      <td>2012</td>\n",
       "      <td>27</td>\n",
       "      <td>87</td>\n",
       "      <td>29</td>\n",
       "      <td>0.5</td>\n",
       "      <td>45.9</td>\n",
       "      <td>3.5</td>\n",
       "      <td>7.9</td>\n",
       "      <td>0.4</td>\n",
       "      <td>3.4</td>\n",
       "      <td>0.2</td>\n",
       "      <td>not fire</td>\n",
       "      <td>0.0</td>\n",
       "    </tr>\n",
       "    <tr>\n",
       "      <th>245</th>\n",
       "      <td>29</td>\n",
       "      <td>9</td>\n",
       "      <td>2012</td>\n",
       "      <td>24</td>\n",
       "      <td>54</td>\n",
       "      <td>18</td>\n",
       "      <td>0.1</td>\n",
       "      <td>79.7</td>\n",
       "      <td>4.3</td>\n",
       "      <td>15.2</td>\n",
       "      <td>1.7</td>\n",
       "      <td>5.1</td>\n",
       "      <td>0.7</td>\n",
       "      <td>not fire</td>\n",
       "      <td>0.0</td>\n",
       "    </tr>\n",
       "    <tr>\n",
       "      <th>246</th>\n",
       "      <td>30</td>\n",
       "      <td>9</td>\n",
       "      <td>2012</td>\n",
       "      <td>24</td>\n",
       "      <td>64</td>\n",
       "      <td>15</td>\n",
       "      <td>0.2</td>\n",
       "      <td>67.3</td>\n",
       "      <td>3.8</td>\n",
       "      <td>16.5</td>\n",
       "      <td>1.2</td>\n",
       "      <td>4.8</td>\n",
       "      <td>0.5</td>\n",
       "      <td>not fire</td>\n",
       "      <td>0.0</td>\n",
       "    </tr>\n",
       "  </tbody>\n",
       "</table>\n",
       "<p>247 rows × 15 columns</p>\n",
       "</div>"
      ],
      "text/plain": [
       "    day month  year Temperature  RH  Ws Rain   FFMC  DMC    DC  ISI   BUI  \\\n",
       "0     1     6  2012          29  57  18     0  65.7  3.4   7.6  1.3   3.4   \n",
       "1     2     6  2012          29  61  13   1.3  64.4  4.1   7.6    1   3.9   \n",
       "2     3     6  2012          26  82  22  13.1  47.1  2.5   7.1  0.3   2.7   \n",
       "3     4     6  2012          25  89  13   2.5  28.6  1.3   6.9    0   1.7   \n",
       "4     5     6  2012          27  77  16     0  64.8    3  14.2  1.2   3.9   \n",
       "..   ..   ...   ...         ...  ..  ..   ...   ...  ...   ...  ...   ...   \n",
       "242  26     9  2012          30  65  14     0  85.4   16  44.5  4.5  16.9   \n",
       "243  27     9  2012          28  87  15   4.4  41.1  6.5     8  0.1   6.2   \n",
       "244  28     9  2012          27  87  29   0.5  45.9  3.5   7.9  0.4   3.4   \n",
       "245  29     9  2012          24  54  18   0.1  79.7  4.3  15.2  1.7   5.1   \n",
       "246  30     9  2012          24  64  15   0.2  67.3  3.8  16.5  1.2   4.8   \n",
       "\n",
       "     FWI     Classes    Region  \n",
       "0    0.5   not fire        1.0  \n",
       "1    0.4   not fire        1.0  \n",
       "2    0.1   not fire        1.0  \n",
       "3      0   not fire        1.0  \n",
       "4    0.5   not fire        1.0  \n",
       "..   ...           ...     ...  \n",
       "242  6.5       fire        0.0  \n",
       "243    0   not fire        0.0  \n",
       "244  0.2   not fire        0.0  \n",
       "245  0.7   not fire        0.0  \n",
       "246  0.5  not fire         0.0  \n",
       "\n",
       "[247 rows x 15 columns]"
      ]
     },
     "execution_count": 3,
     "metadata": {},
     "output_type": "execute_result"
    }
   ],
   "source": [
    "df"
   ]
  },
  {
   "cell_type": "code",
   "execution_count": 4,
   "id": "e9013267",
   "metadata": {},
   "outputs": [
    {
     "data": {
      "text/plain": [
       "(247, 15)"
      ]
     },
     "execution_count": 4,
     "metadata": {},
     "output_type": "execute_result"
    }
   ],
   "source": [
    "#1\n",
    "df.shape"
   ]
  },
  {
   "cell_type": "markdown",
   "id": "39ebad3a",
   "metadata": {},
   "source": [
    "Rows are 247 and columns are 15 in our dataset"
   ]
  },
  {
   "cell_type": "markdown",
   "id": "7126a229",
   "metadata": {},
   "source": [
    "                                        DATA CLEANING"
   ]
  },
  {
   "cell_type": "markdown",
   "id": "771ca584",
   "metadata": {},
   "source": [
    "Observation: In our dataset\n",
    "1. From index 0-121 we have Bejaia Region\n",
    "2. From index 122-124 we have irrelevant rows so we need to drop it\n",
    "3. From index 125 onwards we have Sidi-Bel Abbes Region\n",
    "\n",
    "Lets drop the unecessary rows"
   ]
  },
  {
   "cell_type": "code",
   "execution_count": 6,
   "id": "3d89d8dc",
   "metadata": {},
   "outputs": [],
   "source": [
    "#pd.set_option('display.max_rows', None) #displays all the rows of dataset"
   ]
  },
  {
   "cell_type": "code",
   "execution_count": 7,
   "id": "859becab",
   "metadata": {},
   "outputs": [],
   "source": [
    "df.drop(index=[122,123,124],inplace=True) #to drop unwanted rows\n",
    "df.reset_index(drop=True,inplace=True) #Resetting indexes after deleting rows\n",
    "df['Region']=0\n",
    "\n",
    "for i in range(len(df)):\n",
    "    if i < 122:\n",
    "        df['Region'][i]=0\n",
    "    else:\n",
    "        df['Region'][i]=1"
   ]
  },
  {
   "cell_type": "code",
   "execution_count": 8,
   "id": "2bb160ac",
   "metadata": {},
   "outputs": [
    {
     "data": {
      "text/html": [
       "<div>\n",
       "<style scoped>\n",
       "    .dataframe tbody tr th:only-of-type {\n",
       "        vertical-align: middle;\n",
       "    }\n",
       "\n",
       "    .dataframe tbody tr th {\n",
       "        vertical-align: top;\n",
       "    }\n",
       "\n",
       "    .dataframe thead th {\n",
       "        text-align: right;\n",
       "    }\n",
       "</style>\n",
       "<table border=\"1\" class=\"dataframe\">\n",
       "  <thead>\n",
       "    <tr style=\"text-align: right;\">\n",
       "      <th></th>\n",
       "      <th>day</th>\n",
       "      <th>month</th>\n",
       "      <th>year</th>\n",
       "      <th>Temperature</th>\n",
       "      <th>RH</th>\n",
       "      <th>Ws</th>\n",
       "      <th>Rain</th>\n",
       "      <th>FFMC</th>\n",
       "      <th>DMC</th>\n",
       "      <th>DC</th>\n",
       "      <th>ISI</th>\n",
       "      <th>BUI</th>\n",
       "      <th>FWI</th>\n",
       "      <th>Classes</th>\n",
       "      <th>Region</th>\n",
       "    </tr>\n",
       "  </thead>\n",
       "  <tbody>\n",
       "    <tr>\n",
       "      <th>0</th>\n",
       "      <td>1</td>\n",
       "      <td>6</td>\n",
       "      <td>2012</td>\n",
       "      <td>29</td>\n",
       "      <td>57</td>\n",
       "      <td>18</td>\n",
       "      <td>0</td>\n",
       "      <td>65.7</td>\n",
       "      <td>3.4</td>\n",
       "      <td>7.6</td>\n",
       "      <td>1.3</td>\n",
       "      <td>3.4</td>\n",
       "      <td>0.5</td>\n",
       "      <td>not fire</td>\n",
       "      <td>0</td>\n",
       "    </tr>\n",
       "    <tr>\n",
       "      <th>1</th>\n",
       "      <td>2</td>\n",
       "      <td>6</td>\n",
       "      <td>2012</td>\n",
       "      <td>29</td>\n",
       "      <td>61</td>\n",
       "      <td>13</td>\n",
       "      <td>1.3</td>\n",
       "      <td>64.4</td>\n",
       "      <td>4.1</td>\n",
       "      <td>7.6</td>\n",
       "      <td>1</td>\n",
       "      <td>3.9</td>\n",
       "      <td>0.4</td>\n",
       "      <td>not fire</td>\n",
       "      <td>0</td>\n",
       "    </tr>\n",
       "    <tr>\n",
       "      <th>2</th>\n",
       "      <td>3</td>\n",
       "      <td>6</td>\n",
       "      <td>2012</td>\n",
       "      <td>26</td>\n",
       "      <td>82</td>\n",
       "      <td>22</td>\n",
       "      <td>13.1</td>\n",
       "      <td>47.1</td>\n",
       "      <td>2.5</td>\n",
       "      <td>7.1</td>\n",
       "      <td>0.3</td>\n",
       "      <td>2.7</td>\n",
       "      <td>0.1</td>\n",
       "      <td>not fire</td>\n",
       "      <td>0</td>\n",
       "    </tr>\n",
       "    <tr>\n",
       "      <th>3</th>\n",
       "      <td>4</td>\n",
       "      <td>6</td>\n",
       "      <td>2012</td>\n",
       "      <td>25</td>\n",
       "      <td>89</td>\n",
       "      <td>13</td>\n",
       "      <td>2.5</td>\n",
       "      <td>28.6</td>\n",
       "      <td>1.3</td>\n",
       "      <td>6.9</td>\n",
       "      <td>0</td>\n",
       "      <td>1.7</td>\n",
       "      <td>0</td>\n",
       "      <td>not fire</td>\n",
       "      <td>0</td>\n",
       "    </tr>\n",
       "    <tr>\n",
       "      <th>4</th>\n",
       "      <td>5</td>\n",
       "      <td>6</td>\n",
       "      <td>2012</td>\n",
       "      <td>27</td>\n",
       "      <td>77</td>\n",
       "      <td>16</td>\n",
       "      <td>0</td>\n",
       "      <td>64.8</td>\n",
       "      <td>3</td>\n",
       "      <td>14.2</td>\n",
       "      <td>1.2</td>\n",
       "      <td>3.9</td>\n",
       "      <td>0.5</td>\n",
       "      <td>not fire</td>\n",
       "      <td>0</td>\n",
       "    </tr>\n",
       "    <tr>\n",
       "      <th>...</th>\n",
       "      <td>...</td>\n",
       "      <td>...</td>\n",
       "      <td>...</td>\n",
       "      <td>...</td>\n",
       "      <td>...</td>\n",
       "      <td>...</td>\n",
       "      <td>...</td>\n",
       "      <td>...</td>\n",
       "      <td>...</td>\n",
       "      <td>...</td>\n",
       "      <td>...</td>\n",
       "      <td>...</td>\n",
       "      <td>...</td>\n",
       "      <td>...</td>\n",
       "      <td>...</td>\n",
       "    </tr>\n",
       "    <tr>\n",
       "      <th>239</th>\n",
       "      <td>26</td>\n",
       "      <td>9</td>\n",
       "      <td>2012</td>\n",
       "      <td>30</td>\n",
       "      <td>65</td>\n",
       "      <td>14</td>\n",
       "      <td>0</td>\n",
       "      <td>85.4</td>\n",
       "      <td>16</td>\n",
       "      <td>44.5</td>\n",
       "      <td>4.5</td>\n",
       "      <td>16.9</td>\n",
       "      <td>6.5</td>\n",
       "      <td>fire</td>\n",
       "      <td>1</td>\n",
       "    </tr>\n",
       "    <tr>\n",
       "      <th>240</th>\n",
       "      <td>27</td>\n",
       "      <td>9</td>\n",
       "      <td>2012</td>\n",
       "      <td>28</td>\n",
       "      <td>87</td>\n",
       "      <td>15</td>\n",
       "      <td>4.4</td>\n",
       "      <td>41.1</td>\n",
       "      <td>6.5</td>\n",
       "      <td>8</td>\n",
       "      <td>0.1</td>\n",
       "      <td>6.2</td>\n",
       "      <td>0</td>\n",
       "      <td>not fire</td>\n",
       "      <td>1</td>\n",
       "    </tr>\n",
       "    <tr>\n",
       "      <th>241</th>\n",
       "      <td>28</td>\n",
       "      <td>9</td>\n",
       "      <td>2012</td>\n",
       "      <td>27</td>\n",
       "      <td>87</td>\n",
       "      <td>29</td>\n",
       "      <td>0.5</td>\n",
       "      <td>45.9</td>\n",
       "      <td>3.5</td>\n",
       "      <td>7.9</td>\n",
       "      <td>0.4</td>\n",
       "      <td>3.4</td>\n",
       "      <td>0.2</td>\n",
       "      <td>not fire</td>\n",
       "      <td>1</td>\n",
       "    </tr>\n",
       "    <tr>\n",
       "      <th>242</th>\n",
       "      <td>29</td>\n",
       "      <td>9</td>\n",
       "      <td>2012</td>\n",
       "      <td>24</td>\n",
       "      <td>54</td>\n",
       "      <td>18</td>\n",
       "      <td>0.1</td>\n",
       "      <td>79.7</td>\n",
       "      <td>4.3</td>\n",
       "      <td>15.2</td>\n",
       "      <td>1.7</td>\n",
       "      <td>5.1</td>\n",
       "      <td>0.7</td>\n",
       "      <td>not fire</td>\n",
       "      <td>1</td>\n",
       "    </tr>\n",
       "    <tr>\n",
       "      <th>243</th>\n",
       "      <td>30</td>\n",
       "      <td>9</td>\n",
       "      <td>2012</td>\n",
       "      <td>24</td>\n",
       "      <td>64</td>\n",
       "      <td>15</td>\n",
       "      <td>0.2</td>\n",
       "      <td>67.3</td>\n",
       "      <td>3.8</td>\n",
       "      <td>16.5</td>\n",
       "      <td>1.2</td>\n",
       "      <td>4.8</td>\n",
       "      <td>0.5</td>\n",
       "      <td>not fire</td>\n",
       "      <td>1</td>\n",
       "    </tr>\n",
       "  </tbody>\n",
       "</table>\n",
       "<p>244 rows × 15 columns</p>\n",
       "</div>"
      ],
      "text/plain": [
       "    day month  year Temperature  RH  Ws Rain   FFMC  DMC    DC  ISI   BUI  \\\n",
       "0     1     6  2012          29  57  18     0  65.7  3.4   7.6  1.3   3.4   \n",
       "1     2     6  2012          29  61  13   1.3  64.4  4.1   7.6    1   3.9   \n",
       "2     3     6  2012          26  82  22  13.1  47.1  2.5   7.1  0.3   2.7   \n",
       "3     4     6  2012          25  89  13   2.5  28.6  1.3   6.9    0   1.7   \n",
       "4     5     6  2012          27  77  16     0  64.8    3  14.2  1.2   3.9   \n",
       "..   ..   ...   ...         ...  ..  ..   ...   ...  ...   ...  ...   ...   \n",
       "239  26     9  2012          30  65  14     0  85.4   16  44.5  4.5  16.9   \n",
       "240  27     9  2012          28  87  15   4.4  41.1  6.5     8  0.1   6.2   \n",
       "241  28     9  2012          27  87  29   0.5  45.9  3.5   7.9  0.4   3.4   \n",
       "242  29     9  2012          24  54  18   0.1  79.7  4.3  15.2  1.7   5.1   \n",
       "243  30     9  2012          24  64  15   0.2  67.3  3.8  16.5  1.2   4.8   \n",
       "\n",
       "     FWI     Classes    Region  \n",
       "0    0.5   not fire          0  \n",
       "1    0.4   not fire          0  \n",
       "2    0.1   not fire          0  \n",
       "3      0   not fire          0  \n",
       "4    0.5   not fire          0  \n",
       "..   ...           ...     ...  \n",
       "239  6.5       fire          1  \n",
       "240    0   not fire          1  \n",
       "241  0.2   not fire          1  \n",
       "242  0.7   not fire          1  \n",
       "243  0.5  not fire           1  \n",
       "\n",
       "[244 rows x 15 columns]"
      ]
     },
     "execution_count": 8,
     "metadata": {},
     "output_type": "execute_result"
    }
   ],
   "source": [
    "df"
   ]
  },
  {
   "cell_type": "code",
   "execution_count": 9,
   "id": "60c47c35",
   "metadata": {},
   "outputs": [
    {
     "data": {
      "text/plain": [
       "Index(['day', 'month', 'year', 'Temperature', ' RH', ' Ws', 'Rain ', 'FFMC',\n",
       "       'DMC', 'DC', 'ISI', 'BUI', 'FWI', 'Classes  ', 'Region'],\n",
       "      dtype='object')"
      ]
     },
     "execution_count": 9,
     "metadata": {},
     "output_type": "execute_result"
    }
   ],
   "source": [
    "#2. \n",
    "df.columns"
   ]
  },
  {
   "cell_type": "markdown",
   "id": "54893b33",
   "metadata": {},
   "source": [
    "Observation: Column name has some extra space lets remove it."
   ]
  },
  {
   "cell_type": "code",
   "execution_count": 10,
   "id": "f4f396d7",
   "metadata": {},
   "outputs": [
    {
     "name": "stdout",
     "output_type": "stream",
     "text": [
      "Index(['day', 'month', 'year', 'Temperature', 'RH', 'Ws', 'Rain', 'FFMC',\n",
      "       'DMC', 'DC', 'ISI', 'BUI', 'FWI', 'Classes', 'Region'],\n",
      "      dtype='object')\n"
     ]
    }
   ],
   "source": [
    "for i in df.columns:\n",
    "    df.rename(columns={i:i.strip()},inplace=True)\n",
    "    \n",
    "print(df.columns)"
   ]
  },
  {
   "cell_type": "code",
   "execution_count": 11,
   "id": "b119e1c6",
   "metadata": {},
   "outputs": [
    {
     "data": {
      "text/plain": [
       "day            0\n",
       "month          0\n",
       "year           0\n",
       "Temperature    0\n",
       "RH             0\n",
       "Ws             0\n",
       "Rain           0\n",
       "FFMC           0\n",
       "DMC            0\n",
       "DC             0\n",
       "ISI            0\n",
       "BUI            0\n",
       "FWI            0\n",
       "Classes        1\n",
       "Region         0\n",
       "dtype: int64"
      ]
     },
     "execution_count": 11,
     "metadata": {},
     "output_type": "execute_result"
    }
   ],
   "source": [
    "#Finding out Null data in dataset\n",
    "df.isnull().sum()"
   ]
  },
  {
   "cell_type": "code",
   "execution_count": 12,
   "id": "fc840785",
   "metadata": {},
   "outputs": [
    {
     "data": {
      "text/plain": [
       "0       not fire   \n",
       "1       not fire   \n",
       "2       not fire   \n",
       "3       not fire   \n",
       "4       not fire   \n",
       "           ...     \n",
       "239         fire   \n",
       "240     not fire   \n",
       "241     not fire   \n",
       "242     not fire   \n",
       "243    not fire    \n",
       "Name: Classes, Length: 244, dtype: object"
      ]
     },
     "execution_count": 12,
     "metadata": {},
     "output_type": "execute_result"
    }
   ],
   "source": [
    "df['Classes']"
   ]
  },
  {
   "cell_type": "code",
   "execution_count": 13,
   "id": "56710be1",
   "metadata": {},
   "outputs": [
    {
     "data": {
      "text/plain": [
       "nan"
      ]
     },
     "execution_count": 13,
     "metadata": {},
     "output_type": "execute_result"
    }
   ],
   "source": [
    "df['Classes'][165]"
   ]
  },
  {
   "cell_type": "markdown",
   "id": "df1f6cbe",
   "metadata": {},
   "source": [
    "As we can see that one null value is present in classes column and at row 165. Now lets checkout the whole row to find out the issue"
   ]
  },
  {
   "cell_type": "code",
   "execution_count": 14,
   "id": "44306c7b",
   "metadata": {},
   "outputs": [
    {
     "data": {
      "text/plain": [
       "day                 14\n",
       "month                7\n",
       "year              2012\n",
       "Temperature         37\n",
       "RH                  37\n",
       "Ws                  18\n",
       "Rain               0.2\n",
       "FFMC              88.9\n",
       "DMC               12.9\n",
       "DC              14.6 9\n",
       "ISI               12.5\n",
       "BUI               10.4\n",
       "FWI            fire   \n",
       "Classes            NaN\n",
       "Region               1\n",
       "Name: 165, dtype: object"
      ]
     },
     "execution_count": 14,
     "metadata": {},
     "output_type": "execute_result"
    }
   ],
   "source": [
    "df.iloc[165]"
   ]
  },
  {
   "cell_type": "markdown",
   "id": "b95db157",
   "metadata": {},
   "source": [
    "From above observation we see that the values have been shifted to left from \"DC\" so we need to shift it back to their origional places"
   ]
  },
  {
   "cell_type": "code",
   "execution_count": 15,
   "id": "8c065fe3",
   "metadata": {},
   "outputs": [],
   "source": [
    "#Correcting the entries at roq 165 and shifting it to right\n",
    "df.at[165, 'DC']= 14.6\n",
    "df.at[165, 'ISI']= 9\n",
    "df.at[165, 'BUI']= 12.5\n",
    "df.at[165, 'FWI']= 10.4\n",
    "df.at[165, 'Classes']= 'fire'"
   ]
  },
  {
   "cell_type": "code",
   "execution_count": 16,
   "id": "0a9eb3c6",
   "metadata": {},
   "outputs": [
    {
     "data": {
      "text/plain": [
       "day              14\n",
       "month             7\n",
       "year           2012\n",
       "Temperature      37\n",
       "RH               37\n",
       "Ws               18\n",
       "Rain            0.2\n",
       "FFMC           88.9\n",
       "DMC            12.9\n",
       "DC             14.6\n",
       "ISI               9\n",
       "BUI            12.5\n",
       "FWI            10.4\n",
       "Classes        fire\n",
       "Region            1\n",
       "Name: 165, dtype: object"
      ]
     },
     "execution_count": 16,
     "metadata": {},
     "output_type": "execute_result"
    }
   ],
   "source": [
    "df.iloc[165]"
   ]
  },
  {
   "cell_type": "code",
   "execution_count": 17,
   "id": "a43f4ae3",
   "metadata": {},
   "outputs": [
    {
     "data": {
      "text/plain": [
       "day            0\n",
       "month          0\n",
       "year           0\n",
       "Temperature    0\n",
       "RH             0\n",
       "Ws             0\n",
       "Rain           0\n",
       "FFMC           0\n",
       "DMC            0\n",
       "DC             0\n",
       "ISI            0\n",
       "BUI            0\n",
       "FWI            0\n",
       "Classes        0\n",
       "Region         0\n",
       "dtype: int64"
      ]
     },
     "execution_count": 17,
     "metadata": {},
     "output_type": "execute_result"
    }
   ],
   "source": [
    "#Lets check again for Null values\n",
    "df.isnull().sum()"
   ]
  },
  {
   "cell_type": "code",
   "execution_count": 18,
   "id": "4ca2ea31",
   "metadata": {},
   "outputs": [],
   "source": [
    "#Now the data is proper\n",
    "#Lets find out unique values"
   ]
  },
  {
   "cell_type": "markdown",
   "id": "e37256aa",
   "metadata": {},
   "source": [
    "Checking for missing values"
   ]
  },
  {
   "cell_type": "code",
   "execution_count": 19,
   "id": "37a1e4df",
   "metadata": {},
   "outputs": [
    {
     "data": {
      "text/plain": [
       "day            0\n",
       "month          0\n",
       "year           0\n",
       "Temperature    0\n",
       "RH             0\n",
       "Ws             0\n",
       "Rain           0\n",
       "FFMC           0\n",
       "DMC            0\n",
       "DC             0\n",
       "ISI            0\n",
       "BUI            0\n",
       "FWI            0\n",
       "Classes        0\n",
       "Region         0\n",
       "dtype: int64"
      ]
     },
     "execution_count": 19,
     "metadata": {},
     "output_type": "execute_result"
    }
   ],
   "source": [
    "df.isna().sum()"
   ]
  },
  {
   "cell_type": "code",
   "execution_count": 20,
   "id": "6a37626b",
   "metadata": {},
   "outputs": [
    {
     "data": {
      "text/html": [
       "<div>\n",
       "<style scoped>\n",
       "    .dataframe tbody tr th:only-of-type {\n",
       "        vertical-align: middle;\n",
       "    }\n",
       "\n",
       "    .dataframe tbody tr th {\n",
       "        vertical-align: top;\n",
       "    }\n",
       "\n",
       "    .dataframe thead th {\n",
       "        text-align: right;\n",
       "    }\n",
       "</style>\n",
       "<table border=\"1\" class=\"dataframe\">\n",
       "  <thead>\n",
       "    <tr style=\"text-align: right;\">\n",
       "      <th></th>\n",
       "      <th>day</th>\n",
       "      <th>month</th>\n",
       "      <th>year</th>\n",
       "      <th>Temperature</th>\n",
       "      <th>RH</th>\n",
       "      <th>Ws</th>\n",
       "      <th>Rain</th>\n",
       "      <th>FFMC</th>\n",
       "      <th>DMC</th>\n",
       "      <th>DC</th>\n",
       "      <th>ISI</th>\n",
       "      <th>BUI</th>\n",
       "      <th>FWI</th>\n",
       "      <th>Classes</th>\n",
       "      <th>Region</th>\n",
       "    </tr>\n",
       "  </thead>\n",
       "  <tbody>\n",
       "    <tr>\n",
       "      <th>0</th>\n",
       "      <td>1</td>\n",
       "      <td>6</td>\n",
       "      <td>2012</td>\n",
       "      <td>29</td>\n",
       "      <td>57</td>\n",
       "      <td>18</td>\n",
       "      <td>0</td>\n",
       "      <td>65.7</td>\n",
       "      <td>3.4</td>\n",
       "      <td>7.6</td>\n",
       "      <td>1.3</td>\n",
       "      <td>3.4</td>\n",
       "      <td>0.5</td>\n",
       "      <td>not fire</td>\n",
       "      <td>0</td>\n",
       "    </tr>\n",
       "    <tr>\n",
       "      <th>1</th>\n",
       "      <td>2</td>\n",
       "      <td>6</td>\n",
       "      <td>2012</td>\n",
       "      <td>29</td>\n",
       "      <td>61</td>\n",
       "      <td>13</td>\n",
       "      <td>1.3</td>\n",
       "      <td>64.4</td>\n",
       "      <td>4.1</td>\n",
       "      <td>7.6</td>\n",
       "      <td>1</td>\n",
       "      <td>3.9</td>\n",
       "      <td>0.4</td>\n",
       "      <td>not fire</td>\n",
       "      <td>0</td>\n",
       "    </tr>\n",
       "    <tr>\n",
       "      <th>2</th>\n",
       "      <td>3</td>\n",
       "      <td>6</td>\n",
       "      <td>2012</td>\n",
       "      <td>26</td>\n",
       "      <td>82</td>\n",
       "      <td>22</td>\n",
       "      <td>13.1</td>\n",
       "      <td>47.1</td>\n",
       "      <td>2.5</td>\n",
       "      <td>7.1</td>\n",
       "      <td>0.3</td>\n",
       "      <td>2.7</td>\n",
       "      <td>0.1</td>\n",
       "      <td>not fire</td>\n",
       "      <td>0</td>\n",
       "    </tr>\n",
       "    <tr>\n",
       "      <th>3</th>\n",
       "      <td>4</td>\n",
       "      <td>6</td>\n",
       "      <td>2012</td>\n",
       "      <td>25</td>\n",
       "      <td>89</td>\n",
       "      <td>13</td>\n",
       "      <td>2.5</td>\n",
       "      <td>28.6</td>\n",
       "      <td>1.3</td>\n",
       "      <td>6.9</td>\n",
       "      <td>0</td>\n",
       "      <td>1.7</td>\n",
       "      <td>0</td>\n",
       "      <td>not fire</td>\n",
       "      <td>0</td>\n",
       "    </tr>\n",
       "    <tr>\n",
       "      <th>4</th>\n",
       "      <td>5</td>\n",
       "      <td>6</td>\n",
       "      <td>2012</td>\n",
       "      <td>27</td>\n",
       "      <td>77</td>\n",
       "      <td>16</td>\n",
       "      <td>0</td>\n",
       "      <td>64.8</td>\n",
       "      <td>3</td>\n",
       "      <td>14.2</td>\n",
       "      <td>1.2</td>\n",
       "      <td>3.9</td>\n",
       "      <td>0.5</td>\n",
       "      <td>not fire</td>\n",
       "      <td>0</td>\n",
       "    </tr>\n",
       "  </tbody>\n",
       "</table>\n",
       "</div>"
      ],
      "text/plain": [
       "  day month  year Temperature  RH  Ws  Rain  FFMC  DMC    DC  ISI  BUI  FWI  \\\n",
       "0   1     6  2012          29  57  18     0  65.7  3.4   7.6  1.3  3.4  0.5   \n",
       "1   2     6  2012          29  61  13   1.3  64.4  4.1   7.6    1  3.9  0.4   \n",
       "2   3     6  2012          26  82  22  13.1  47.1  2.5   7.1  0.3  2.7  0.1   \n",
       "3   4     6  2012          25  89  13   2.5  28.6  1.3   6.9    0  1.7    0   \n",
       "4   5     6  2012          27  77  16     0  64.8    3  14.2  1.2  3.9  0.5   \n",
       "\n",
       "       Classes  Region  \n",
       "0  not fire          0  \n",
       "1  not fire          0  \n",
       "2  not fire          0  \n",
       "3  not fire          0  \n",
       "4  not fire          0  "
      ]
     },
     "execution_count": 20,
     "metadata": {},
     "output_type": "execute_result"
    }
   ],
   "source": [
    "df.head()"
   ]
  },
  {
   "cell_type": "code",
   "execution_count": 21,
   "id": "b0a9812d",
   "metadata": {},
   "outputs": [
    {
     "data": {
      "text/plain": [
       "array(['not fire   ', 'fire   ', 'fire', 'fire ', 'not fire', 'not fire ',\n",
       "       'not fire     ', 'not fire    '], dtype=object)"
      ]
     },
     "execution_count": 21,
     "metadata": {},
     "output_type": "execute_result"
    }
   ],
   "source": [
    "df['Classes'].unique()"
   ]
  },
  {
   "cell_type": "code",
   "execution_count": 22,
   "id": "e684c764",
   "metadata": {},
   "outputs": [],
   "source": [
    "#We can see that there are extra spaces in the entries that we need to remove\n",
    "df['Classes']= [i.strip() for i in df['Classes']]"
   ]
  },
  {
   "cell_type": "code",
   "execution_count": 23,
   "id": "44adf0e9",
   "metadata": {},
   "outputs": [
    {
     "data": {
      "text/plain": [
       "array(['not fire', 'fire'], dtype=object)"
      ]
     },
     "execution_count": 23,
     "metadata": {},
     "output_type": "execute_result"
    }
   ],
   "source": [
    "df['Classes'].unique()"
   ]
  },
  {
   "cell_type": "markdown",
   "id": "17bae197",
   "metadata": {},
   "source": [
    "#Extra spaces has been removed"
   ]
  },
  {
   "cell_type": "code",
   "execution_count": 24,
   "id": "9b90dddf",
   "metadata": {
    "scrolled": true
   },
   "outputs": [
    {
     "data": {
      "text/html": [
       "<div>\n",
       "<style scoped>\n",
       "    .dataframe tbody tr th:only-of-type {\n",
       "        vertical-align: middle;\n",
       "    }\n",
       "\n",
       "    .dataframe tbody tr th {\n",
       "        vertical-align: top;\n",
       "    }\n",
       "\n",
       "    .dataframe thead th {\n",
       "        text-align: right;\n",
       "    }\n",
       "</style>\n",
       "<table border=\"1\" class=\"dataframe\">\n",
       "  <thead>\n",
       "    <tr style=\"text-align: right;\">\n",
       "      <th></th>\n",
       "      <th>day</th>\n",
       "      <th>month</th>\n",
       "      <th>year</th>\n",
       "      <th>Temperature</th>\n",
       "      <th>RH</th>\n",
       "      <th>Ws</th>\n",
       "      <th>Rain</th>\n",
       "      <th>FFMC</th>\n",
       "      <th>DMC</th>\n",
       "      <th>DC</th>\n",
       "      <th>ISI</th>\n",
       "      <th>BUI</th>\n",
       "      <th>FWI</th>\n",
       "      <th>Classes</th>\n",
       "      <th>Region</th>\n",
       "    </tr>\n",
       "  </thead>\n",
       "  <tbody>\n",
       "    <tr>\n",
       "      <th>0</th>\n",
       "      <td>1</td>\n",
       "      <td>6</td>\n",
       "      <td>2012</td>\n",
       "      <td>29</td>\n",
       "      <td>57</td>\n",
       "      <td>18</td>\n",
       "      <td>0</td>\n",
       "      <td>65.7</td>\n",
       "      <td>3.4</td>\n",
       "      <td>7.6</td>\n",
       "      <td>1.3</td>\n",
       "      <td>3.4</td>\n",
       "      <td>0.5</td>\n",
       "      <td>not fire</td>\n",
       "      <td>0</td>\n",
       "    </tr>\n",
       "    <tr>\n",
       "      <th>1</th>\n",
       "      <td>2</td>\n",
       "      <td>6</td>\n",
       "      <td>2012</td>\n",
       "      <td>29</td>\n",
       "      <td>61</td>\n",
       "      <td>13</td>\n",
       "      <td>1.3</td>\n",
       "      <td>64.4</td>\n",
       "      <td>4.1</td>\n",
       "      <td>7.6</td>\n",
       "      <td>1</td>\n",
       "      <td>3.9</td>\n",
       "      <td>0.4</td>\n",
       "      <td>not fire</td>\n",
       "      <td>0</td>\n",
       "    </tr>\n",
       "    <tr>\n",
       "      <th>2</th>\n",
       "      <td>3</td>\n",
       "      <td>6</td>\n",
       "      <td>2012</td>\n",
       "      <td>26</td>\n",
       "      <td>82</td>\n",
       "      <td>22</td>\n",
       "      <td>13.1</td>\n",
       "      <td>47.1</td>\n",
       "      <td>2.5</td>\n",
       "      <td>7.1</td>\n",
       "      <td>0.3</td>\n",
       "      <td>2.7</td>\n",
       "      <td>0.1</td>\n",
       "      <td>not fire</td>\n",
       "      <td>0</td>\n",
       "    </tr>\n",
       "    <tr>\n",
       "      <th>3</th>\n",
       "      <td>4</td>\n",
       "      <td>6</td>\n",
       "      <td>2012</td>\n",
       "      <td>25</td>\n",
       "      <td>89</td>\n",
       "      <td>13</td>\n",
       "      <td>2.5</td>\n",
       "      <td>28.6</td>\n",
       "      <td>1.3</td>\n",
       "      <td>6.9</td>\n",
       "      <td>0</td>\n",
       "      <td>1.7</td>\n",
       "      <td>0</td>\n",
       "      <td>not fire</td>\n",
       "      <td>0</td>\n",
       "    </tr>\n",
       "    <tr>\n",
       "      <th>4</th>\n",
       "      <td>5</td>\n",
       "      <td>6</td>\n",
       "      <td>2012</td>\n",
       "      <td>27</td>\n",
       "      <td>77</td>\n",
       "      <td>16</td>\n",
       "      <td>0</td>\n",
       "      <td>64.8</td>\n",
       "      <td>3</td>\n",
       "      <td>14.2</td>\n",
       "      <td>1.2</td>\n",
       "      <td>3.9</td>\n",
       "      <td>0.5</td>\n",
       "      <td>not fire</td>\n",
       "      <td>0</td>\n",
       "    </tr>\n",
       "  </tbody>\n",
       "</table>\n",
       "</div>"
      ],
      "text/plain": [
       "  day month  year Temperature  RH  Ws  Rain  FFMC  DMC    DC  ISI  BUI  FWI  \\\n",
       "0   1     6  2012          29  57  18     0  65.7  3.4   7.6  1.3  3.4  0.5   \n",
       "1   2     6  2012          29  61  13   1.3  64.4  4.1   7.6    1  3.9  0.4   \n",
       "2   3     6  2012          26  82  22  13.1  47.1  2.5   7.1  0.3  2.7  0.1   \n",
       "3   4     6  2012          25  89  13   2.5  28.6  1.3   6.9    0  1.7    0   \n",
       "4   5     6  2012          27  77  16     0  64.8    3  14.2  1.2  3.9  0.5   \n",
       "\n",
       "    Classes  Region  \n",
       "0  not fire       0  \n",
       "1  not fire       0  \n",
       "2  not fire       0  \n",
       "3  not fire       0  \n",
       "4  not fire       0  "
      ]
     },
     "execution_count": 24,
     "metadata": {},
     "output_type": "execute_result"
    }
   ],
   "source": [
    "df.head()"
   ]
  },
  {
   "cell_type": "markdown",
   "id": "b2364c87",
   "metadata": {},
   "source": [
    "Observation:\n",
    "    The entries of \"year\" column are same throughout and doesnot have any impact on dataset\n",
    "    \n",
    "    Column \"day\"also can be removed\n",
    "    "
   ]
  },
  {
   "cell_type": "code",
   "execution_count": 25,
   "id": "e1502f00",
   "metadata": {},
   "outputs": [],
   "source": [
    "#Deleting unwanted columns\n",
    "df.drop(columns= ['year','day'], inplace= True)"
   ]
  },
  {
   "cell_type": "code",
   "execution_count": 26,
   "id": "46e6db2a",
   "metadata": {},
   "outputs": [
    {
     "data": {
      "text/html": [
       "<div>\n",
       "<style scoped>\n",
       "    .dataframe tbody tr th:only-of-type {\n",
       "        vertical-align: middle;\n",
       "    }\n",
       "\n",
       "    .dataframe tbody tr th {\n",
       "        vertical-align: top;\n",
       "    }\n",
       "\n",
       "    .dataframe thead th {\n",
       "        text-align: right;\n",
       "    }\n",
       "</style>\n",
       "<table border=\"1\" class=\"dataframe\">\n",
       "  <thead>\n",
       "    <tr style=\"text-align: right;\">\n",
       "      <th></th>\n",
       "      <th>month</th>\n",
       "      <th>Temperature</th>\n",
       "      <th>RH</th>\n",
       "      <th>Ws</th>\n",
       "      <th>Rain</th>\n",
       "      <th>FFMC</th>\n",
       "      <th>DMC</th>\n",
       "      <th>DC</th>\n",
       "      <th>ISI</th>\n",
       "      <th>BUI</th>\n",
       "      <th>FWI</th>\n",
       "      <th>Classes</th>\n",
       "      <th>Region</th>\n",
       "    </tr>\n",
       "  </thead>\n",
       "  <tbody>\n",
       "    <tr>\n",
       "      <th>0</th>\n",
       "      <td>6</td>\n",
       "      <td>29</td>\n",
       "      <td>57</td>\n",
       "      <td>18</td>\n",
       "      <td>0</td>\n",
       "      <td>65.7</td>\n",
       "      <td>3.4</td>\n",
       "      <td>7.6</td>\n",
       "      <td>1.3</td>\n",
       "      <td>3.4</td>\n",
       "      <td>0.5</td>\n",
       "      <td>not fire</td>\n",
       "      <td>0</td>\n",
       "    </tr>\n",
       "    <tr>\n",
       "      <th>1</th>\n",
       "      <td>6</td>\n",
       "      <td>29</td>\n",
       "      <td>61</td>\n",
       "      <td>13</td>\n",
       "      <td>1.3</td>\n",
       "      <td>64.4</td>\n",
       "      <td>4.1</td>\n",
       "      <td>7.6</td>\n",
       "      <td>1</td>\n",
       "      <td>3.9</td>\n",
       "      <td>0.4</td>\n",
       "      <td>not fire</td>\n",
       "      <td>0</td>\n",
       "    </tr>\n",
       "    <tr>\n",
       "      <th>2</th>\n",
       "      <td>6</td>\n",
       "      <td>26</td>\n",
       "      <td>82</td>\n",
       "      <td>22</td>\n",
       "      <td>13.1</td>\n",
       "      <td>47.1</td>\n",
       "      <td>2.5</td>\n",
       "      <td>7.1</td>\n",
       "      <td>0.3</td>\n",
       "      <td>2.7</td>\n",
       "      <td>0.1</td>\n",
       "      <td>not fire</td>\n",
       "      <td>0</td>\n",
       "    </tr>\n",
       "    <tr>\n",
       "      <th>3</th>\n",
       "      <td>6</td>\n",
       "      <td>25</td>\n",
       "      <td>89</td>\n",
       "      <td>13</td>\n",
       "      <td>2.5</td>\n",
       "      <td>28.6</td>\n",
       "      <td>1.3</td>\n",
       "      <td>6.9</td>\n",
       "      <td>0</td>\n",
       "      <td>1.7</td>\n",
       "      <td>0</td>\n",
       "      <td>not fire</td>\n",
       "      <td>0</td>\n",
       "    </tr>\n",
       "    <tr>\n",
       "      <th>4</th>\n",
       "      <td>6</td>\n",
       "      <td>27</td>\n",
       "      <td>77</td>\n",
       "      <td>16</td>\n",
       "      <td>0</td>\n",
       "      <td>64.8</td>\n",
       "      <td>3</td>\n",
       "      <td>14.2</td>\n",
       "      <td>1.2</td>\n",
       "      <td>3.9</td>\n",
       "      <td>0.5</td>\n",
       "      <td>not fire</td>\n",
       "      <td>0</td>\n",
       "    </tr>\n",
       "  </tbody>\n",
       "</table>\n",
       "</div>"
      ],
      "text/plain": [
       "  month Temperature  RH  Ws  Rain  FFMC  DMC    DC  ISI  BUI  FWI   Classes  \\\n",
       "0     6          29  57  18     0  65.7  3.4   7.6  1.3  3.4  0.5  not fire   \n",
       "1     6          29  61  13   1.3  64.4  4.1   7.6    1  3.9  0.4  not fire   \n",
       "2     6          26  82  22  13.1  47.1  2.5   7.1  0.3  2.7  0.1  not fire   \n",
       "3     6          25  89  13   2.5  28.6  1.3   6.9    0  1.7    0  not fire   \n",
       "4     6          27  77  16     0  64.8    3  14.2  1.2  3.9  0.5  not fire   \n",
       "\n",
       "   Region  \n",
       "0       0  \n",
       "1       0  \n",
       "2       0  \n",
       "3       0  \n",
       "4       0  "
      ]
     },
     "execution_count": 26,
     "metadata": {},
     "output_type": "execute_result"
    }
   ],
   "source": [
    "df.head()"
   ]
  },
  {
   "cell_type": "code",
   "execution_count": 27,
   "id": "ab0abae5",
   "metadata": {},
   "outputs": [
    {
     "data": {
      "text/plain": [
       "month          object\n",
       "Temperature    object\n",
       "RH             object\n",
       "Ws             object\n",
       "Rain           object\n",
       "FFMC           object\n",
       "DMC            object\n",
       "DC             object\n",
       "ISI            object\n",
       "BUI            object\n",
       "FWI            object\n",
       "Classes        object\n",
       "Region          int64\n",
       "dtype: object"
      ]
     },
     "execution_count": 27,
     "metadata": {},
     "output_type": "execute_result"
    }
   ],
   "source": [
    "##Lets check the data types of columns\n",
    "df.dtypes"
   ]
  },
  {
   "cell_type": "markdown",
   "id": "bc2e412b",
   "metadata": {},
   "source": [
    "From our observation we see that columns month,Temperature,RH,Ws,Rain,FFMC,DMC,DC,ISI,BUI,FWI are having Catagorical data which needs to be Numerical.\n",
    "\n",
    "and Region is Numerical and it should be Catagorical\n",
    "\n",
    "Lets check the datatypes as well"
   ]
  },
  {
   "cell_type": "markdown",
   "id": "fde22c96",
   "metadata": {},
   "source": [
    "We need to change the datatypes"
   ]
  },
  {
   "cell_type": "code",
   "execution_count": 28,
   "id": "4ee4933a",
   "metadata": {},
   "outputs": [],
   "source": [
    "##Converting datatypes of columns\n",
    "col=['Temperature','RH','Ws','Rain','FFMC','DMC','DC','ISI','BUI','FWI']\n",
    "df[col]=df[col].apply(pd.to_numeric)\n",
    "\n",
    "df['Region']=df['Region'].apply(str)"
   ]
  },
  {
   "cell_type": "code",
   "execution_count": 29,
   "id": "834f55d9",
   "metadata": {},
   "outputs": [
    {
     "data": {
      "text/plain": [
       "month           object\n",
       "Temperature      int64\n",
       "RH               int64\n",
       "Ws               int64\n",
       "Rain           float64\n",
       "FFMC           float64\n",
       "DMC            float64\n",
       "DC             float64\n",
       "ISI            float64\n",
       "BUI            float64\n",
       "FWI            float64\n",
       "Classes         object\n",
       "Region          object\n",
       "dtype: object"
      ]
     },
     "execution_count": 29,
     "metadata": {},
     "output_type": "execute_result"
    }
   ],
   "source": [
    "#Lets check again\n",
    "df.dtypes"
   ]
  },
  {
   "cell_type": "code",
   "execution_count": 30,
   "id": "5d130cda",
   "metadata": {},
   "outputs": [
    {
     "data": {
      "text/plain": [
       "0      False\n",
       "1      False\n",
       "2      False\n",
       "3      False\n",
       "4      False\n",
       "       ...  \n",
       "239    False\n",
       "240    False\n",
       "241    False\n",
       "242    False\n",
       "243    False\n",
       "Length: 244, dtype: bool"
      ]
     },
     "execution_count": 30,
     "metadata": {},
     "output_type": "execute_result"
    }
   ],
   "source": [
    "# Lets check for duplicates\n",
    "df.duplicated()"
   ]
  },
  {
   "cell_type": "markdown",
   "id": "a501a539",
   "metadata": {},
   "source": [
    "Observation:\n",
    "    No duplicate data available"
   ]
  },
  {
   "cell_type": "markdown",
   "id": "95d05ac8",
   "metadata": {},
   "source": [
    "# Statistical Information"
   ]
  },
  {
   "cell_type": "code",
   "execution_count": 31,
   "id": "8b02a889",
   "metadata": {},
   "outputs": [
    {
     "data": {
      "text/html": [
       "<div>\n",
       "<style scoped>\n",
       "    .dataframe tbody tr th:only-of-type {\n",
       "        vertical-align: middle;\n",
       "    }\n",
       "\n",
       "    .dataframe tbody tr th {\n",
       "        vertical-align: top;\n",
       "    }\n",
       "\n",
       "    .dataframe thead th {\n",
       "        text-align: right;\n",
       "    }\n",
       "</style>\n",
       "<table border=\"1\" class=\"dataframe\">\n",
       "  <thead>\n",
       "    <tr style=\"text-align: right;\">\n",
       "      <th></th>\n",
       "      <th>Temperature</th>\n",
       "      <th>RH</th>\n",
       "      <th>Ws</th>\n",
       "      <th>Rain</th>\n",
       "      <th>FFMC</th>\n",
       "      <th>DMC</th>\n",
       "      <th>DC</th>\n",
       "      <th>ISI</th>\n",
       "      <th>BUI</th>\n",
       "      <th>FWI</th>\n",
       "    </tr>\n",
       "  </thead>\n",
       "  <tbody>\n",
       "    <tr>\n",
       "      <th>count</th>\n",
       "      <td>244.000000</td>\n",
       "      <td>244.000000</td>\n",
       "      <td>244.000000</td>\n",
       "      <td>244.000000</td>\n",
       "      <td>244.000000</td>\n",
       "      <td>244.000000</td>\n",
       "      <td>244.000000</td>\n",
       "      <td>244.000000</td>\n",
       "      <td>244.000000</td>\n",
       "      <td>244.000000</td>\n",
       "    </tr>\n",
       "    <tr>\n",
       "      <th>mean</th>\n",
       "      <td>32.172131</td>\n",
       "      <td>61.938525</td>\n",
       "      <td>15.504098</td>\n",
       "      <td>0.760656</td>\n",
       "      <td>77.887705</td>\n",
       "      <td>14.673361</td>\n",
       "      <td>49.288115</td>\n",
       "      <td>4.759836</td>\n",
       "      <td>16.673361</td>\n",
       "      <td>7.049180</td>\n",
       "    </tr>\n",
       "    <tr>\n",
       "      <th>std</th>\n",
       "      <td>3.633843</td>\n",
       "      <td>14.884200</td>\n",
       "      <td>2.810178</td>\n",
       "      <td>1.999406</td>\n",
       "      <td>14.337571</td>\n",
       "      <td>12.368039</td>\n",
       "      <td>47.619662</td>\n",
       "      <td>4.154628</td>\n",
       "      <td>14.201648</td>\n",
       "      <td>7.428366</td>\n",
       "    </tr>\n",
       "    <tr>\n",
       "      <th>min</th>\n",
       "      <td>22.000000</td>\n",
       "      <td>21.000000</td>\n",
       "      <td>6.000000</td>\n",
       "      <td>0.000000</td>\n",
       "      <td>28.600000</td>\n",
       "      <td>0.700000</td>\n",
       "      <td>6.900000</td>\n",
       "      <td>0.000000</td>\n",
       "      <td>1.100000</td>\n",
       "      <td>0.000000</td>\n",
       "    </tr>\n",
       "    <tr>\n",
       "      <th>25%</th>\n",
       "      <td>30.000000</td>\n",
       "      <td>52.000000</td>\n",
       "      <td>14.000000</td>\n",
       "      <td>0.000000</td>\n",
       "      <td>72.075000</td>\n",
       "      <td>5.800000</td>\n",
       "      <td>13.275000</td>\n",
       "      <td>1.400000</td>\n",
       "      <td>6.000000</td>\n",
       "      <td>0.700000</td>\n",
       "    </tr>\n",
       "    <tr>\n",
       "      <th>50%</th>\n",
       "      <td>32.000000</td>\n",
       "      <td>63.000000</td>\n",
       "      <td>15.000000</td>\n",
       "      <td>0.000000</td>\n",
       "      <td>83.500000</td>\n",
       "      <td>11.300000</td>\n",
       "      <td>33.100000</td>\n",
       "      <td>3.500000</td>\n",
       "      <td>12.450000</td>\n",
       "      <td>4.450000</td>\n",
       "    </tr>\n",
       "    <tr>\n",
       "      <th>75%</th>\n",
       "      <td>35.000000</td>\n",
       "      <td>73.250000</td>\n",
       "      <td>17.000000</td>\n",
       "      <td>0.500000</td>\n",
       "      <td>88.300000</td>\n",
       "      <td>20.750000</td>\n",
       "      <td>68.150000</td>\n",
       "      <td>7.300000</td>\n",
       "      <td>22.525000</td>\n",
       "      <td>11.375000</td>\n",
       "    </tr>\n",
       "    <tr>\n",
       "      <th>max</th>\n",
       "      <td>42.000000</td>\n",
       "      <td>90.000000</td>\n",
       "      <td>29.000000</td>\n",
       "      <td>16.800000</td>\n",
       "      <td>96.000000</td>\n",
       "      <td>65.900000</td>\n",
       "      <td>220.400000</td>\n",
       "      <td>19.000000</td>\n",
       "      <td>68.000000</td>\n",
       "      <td>31.100000</td>\n",
       "    </tr>\n",
       "  </tbody>\n",
       "</table>\n",
       "</div>"
      ],
      "text/plain": [
       "       Temperature          RH          Ws        Rain        FFMC  \\\n",
       "count   244.000000  244.000000  244.000000  244.000000  244.000000   \n",
       "mean     32.172131   61.938525   15.504098    0.760656   77.887705   \n",
       "std       3.633843   14.884200    2.810178    1.999406   14.337571   \n",
       "min      22.000000   21.000000    6.000000    0.000000   28.600000   \n",
       "25%      30.000000   52.000000   14.000000    0.000000   72.075000   \n",
       "50%      32.000000   63.000000   15.000000    0.000000   83.500000   \n",
       "75%      35.000000   73.250000   17.000000    0.500000   88.300000   \n",
       "max      42.000000   90.000000   29.000000   16.800000   96.000000   \n",
       "\n",
       "              DMC          DC         ISI         BUI         FWI  \n",
       "count  244.000000  244.000000  244.000000  244.000000  244.000000  \n",
       "mean    14.673361   49.288115    4.759836   16.673361    7.049180  \n",
       "std     12.368039   47.619662    4.154628   14.201648    7.428366  \n",
       "min      0.700000    6.900000    0.000000    1.100000    0.000000  \n",
       "25%      5.800000   13.275000    1.400000    6.000000    0.700000  \n",
       "50%     11.300000   33.100000    3.500000   12.450000    4.450000  \n",
       "75%     20.750000   68.150000    7.300000   22.525000   11.375000  \n",
       "max     65.900000  220.400000   19.000000   68.000000   31.100000  "
      ]
     },
     "execution_count": 31,
     "metadata": {},
     "output_type": "execute_result"
    }
   ],
   "source": [
    "df.describe()"
   ]
  },
  {
   "cell_type": "code",
   "execution_count": 32,
   "id": "c839fd9f",
   "metadata": {},
   "outputs": [
    {
     "data": {
      "text/html": [
       "<div>\n",
       "<style scoped>\n",
       "    .dataframe tbody tr th:only-of-type {\n",
       "        vertical-align: middle;\n",
       "    }\n",
       "\n",
       "    .dataframe tbody tr th {\n",
       "        vertical-align: top;\n",
       "    }\n",
       "\n",
       "    .dataframe thead th {\n",
       "        text-align: right;\n",
       "    }\n",
       "</style>\n",
       "<table border=\"1\" class=\"dataframe\">\n",
       "  <thead>\n",
       "    <tr style=\"text-align: right;\">\n",
       "      <th></th>\n",
       "      <th>count</th>\n",
       "      <th>mean</th>\n",
       "      <th>std</th>\n",
       "      <th>min</th>\n",
       "      <th>25%</th>\n",
       "      <th>50%</th>\n",
       "      <th>75%</th>\n",
       "      <th>max</th>\n",
       "    </tr>\n",
       "  </thead>\n",
       "  <tbody>\n",
       "    <tr>\n",
       "      <th>Temperature</th>\n",
       "      <td>244.0</td>\n",
       "      <td>32.172131</td>\n",
       "      <td>3.633843</td>\n",
       "      <td>22.0</td>\n",
       "      <td>30.000</td>\n",
       "      <td>32.00</td>\n",
       "      <td>35.000</td>\n",
       "      <td>42.0</td>\n",
       "    </tr>\n",
       "    <tr>\n",
       "      <th>RH</th>\n",
       "      <td>244.0</td>\n",
       "      <td>61.938525</td>\n",
       "      <td>14.884200</td>\n",
       "      <td>21.0</td>\n",
       "      <td>52.000</td>\n",
       "      <td>63.00</td>\n",
       "      <td>73.250</td>\n",
       "      <td>90.0</td>\n",
       "    </tr>\n",
       "    <tr>\n",
       "      <th>Ws</th>\n",
       "      <td>244.0</td>\n",
       "      <td>15.504098</td>\n",
       "      <td>2.810178</td>\n",
       "      <td>6.0</td>\n",
       "      <td>14.000</td>\n",
       "      <td>15.00</td>\n",
       "      <td>17.000</td>\n",
       "      <td>29.0</td>\n",
       "    </tr>\n",
       "    <tr>\n",
       "      <th>Rain</th>\n",
       "      <td>244.0</td>\n",
       "      <td>0.760656</td>\n",
       "      <td>1.999406</td>\n",
       "      <td>0.0</td>\n",
       "      <td>0.000</td>\n",
       "      <td>0.00</td>\n",
       "      <td>0.500</td>\n",
       "      <td>16.8</td>\n",
       "    </tr>\n",
       "    <tr>\n",
       "      <th>FFMC</th>\n",
       "      <td>244.0</td>\n",
       "      <td>77.887705</td>\n",
       "      <td>14.337571</td>\n",
       "      <td>28.6</td>\n",
       "      <td>72.075</td>\n",
       "      <td>83.50</td>\n",
       "      <td>88.300</td>\n",
       "      <td>96.0</td>\n",
       "    </tr>\n",
       "    <tr>\n",
       "      <th>DMC</th>\n",
       "      <td>244.0</td>\n",
       "      <td>14.673361</td>\n",
       "      <td>12.368039</td>\n",
       "      <td>0.7</td>\n",
       "      <td>5.800</td>\n",
       "      <td>11.30</td>\n",
       "      <td>20.750</td>\n",
       "      <td>65.9</td>\n",
       "    </tr>\n",
       "    <tr>\n",
       "      <th>DC</th>\n",
       "      <td>244.0</td>\n",
       "      <td>49.288115</td>\n",
       "      <td>47.619662</td>\n",
       "      <td>6.9</td>\n",
       "      <td>13.275</td>\n",
       "      <td>33.10</td>\n",
       "      <td>68.150</td>\n",
       "      <td>220.4</td>\n",
       "    </tr>\n",
       "    <tr>\n",
       "      <th>ISI</th>\n",
       "      <td>244.0</td>\n",
       "      <td>4.759836</td>\n",
       "      <td>4.154628</td>\n",
       "      <td>0.0</td>\n",
       "      <td>1.400</td>\n",
       "      <td>3.50</td>\n",
       "      <td>7.300</td>\n",
       "      <td>19.0</td>\n",
       "    </tr>\n",
       "    <tr>\n",
       "      <th>BUI</th>\n",
       "      <td>244.0</td>\n",
       "      <td>16.673361</td>\n",
       "      <td>14.201648</td>\n",
       "      <td>1.1</td>\n",
       "      <td>6.000</td>\n",
       "      <td>12.45</td>\n",
       "      <td>22.525</td>\n",
       "      <td>68.0</td>\n",
       "    </tr>\n",
       "    <tr>\n",
       "      <th>FWI</th>\n",
       "      <td>244.0</td>\n",
       "      <td>7.049180</td>\n",
       "      <td>7.428366</td>\n",
       "      <td>0.0</td>\n",
       "      <td>0.700</td>\n",
       "      <td>4.45</td>\n",
       "      <td>11.375</td>\n",
       "      <td>31.1</td>\n",
       "    </tr>\n",
       "  </tbody>\n",
       "</table>\n",
       "</div>"
      ],
      "text/plain": [
       "             count       mean        std   min     25%    50%     75%    max\n",
       "Temperature  244.0  32.172131   3.633843  22.0  30.000  32.00  35.000   42.0\n",
       "RH           244.0  61.938525  14.884200  21.0  52.000  63.00  73.250   90.0\n",
       "Ws           244.0  15.504098   2.810178   6.0  14.000  15.00  17.000   29.0\n",
       "Rain         244.0   0.760656   1.999406   0.0   0.000   0.00   0.500   16.8\n",
       "FFMC         244.0  77.887705  14.337571  28.6  72.075  83.50  88.300   96.0\n",
       "DMC          244.0  14.673361  12.368039   0.7   5.800  11.30  20.750   65.9\n",
       "DC           244.0  49.288115  47.619662   6.9  13.275  33.10  68.150  220.4\n",
       "ISI          244.0   4.759836   4.154628   0.0   1.400   3.50   7.300   19.0\n",
       "BUI          244.0  16.673361  14.201648   1.1   6.000  12.45  22.525   68.0\n",
       "FWI          244.0   7.049180   7.428366   0.0   0.700   4.45  11.375   31.1"
      ]
     },
     "execution_count": 32,
     "metadata": {},
     "output_type": "execute_result"
    }
   ],
   "source": [
    "df.describe().T"
   ]
  },
  {
   "cell_type": "code",
   "execution_count": 33,
   "id": "e1bf6428",
   "metadata": {},
   "outputs": [],
   "source": [
    "#Lets check the Catagorical and Numerical column data in our dataset\n",
    "cat_col=[fea for fea in df.columns if df[fea].dtype == 'O'] #catagorical data\n",
    "num_col=[fea for fea in df.columns if df[fea].dtype != 'O']  #numarical data"
   ]
  },
  {
   "cell_type": "code",
   "execution_count": 34,
   "id": "4ab72b22",
   "metadata": {},
   "outputs": [
    {
     "data": {
      "text/html": [
       "<div>\n",
       "<style scoped>\n",
       "    .dataframe tbody tr th:only-of-type {\n",
       "        vertical-align: middle;\n",
       "    }\n",
       "\n",
       "    .dataframe tbody tr th {\n",
       "        vertical-align: top;\n",
       "    }\n",
       "\n",
       "    .dataframe thead th {\n",
       "        text-align: right;\n",
       "    }\n",
       "</style>\n",
       "<table border=\"1\" class=\"dataframe\">\n",
       "  <thead>\n",
       "    <tr style=\"text-align: right;\">\n",
       "      <th></th>\n",
       "      <th>month</th>\n",
       "      <th>Classes</th>\n",
       "      <th>Region</th>\n",
       "    </tr>\n",
       "  </thead>\n",
       "  <tbody>\n",
       "    <tr>\n",
       "      <th>0</th>\n",
       "      <td>6</td>\n",
       "      <td>not fire</td>\n",
       "      <td>0</td>\n",
       "    </tr>\n",
       "    <tr>\n",
       "      <th>1</th>\n",
       "      <td>6</td>\n",
       "      <td>not fire</td>\n",
       "      <td>0</td>\n",
       "    </tr>\n",
       "    <tr>\n",
       "      <th>2</th>\n",
       "      <td>6</td>\n",
       "      <td>not fire</td>\n",
       "      <td>0</td>\n",
       "    </tr>\n",
       "    <tr>\n",
       "      <th>3</th>\n",
       "      <td>6</td>\n",
       "      <td>not fire</td>\n",
       "      <td>0</td>\n",
       "    </tr>\n",
       "    <tr>\n",
       "      <th>4</th>\n",
       "      <td>6</td>\n",
       "      <td>not fire</td>\n",
       "      <td>0</td>\n",
       "    </tr>\n",
       "  </tbody>\n",
       "</table>\n",
       "</div>"
      ],
      "text/plain": [
       "  month   Classes Region\n",
       "0     6  not fire      0\n",
       "1     6  not fire      0\n",
       "2     6  not fire      0\n",
       "3     6  not fire      0\n",
       "4     6  not fire      0"
      ]
     },
     "execution_count": 34,
     "metadata": {},
     "output_type": "execute_result"
    }
   ],
   "source": [
    "df[cat_col].head()"
   ]
  },
  {
   "cell_type": "code",
   "execution_count": 35,
   "id": "848b19aa",
   "metadata": {},
   "outputs": [
    {
     "data": {
      "text/html": [
       "<div>\n",
       "<style scoped>\n",
       "    .dataframe tbody tr th:only-of-type {\n",
       "        vertical-align: middle;\n",
       "    }\n",
       "\n",
       "    .dataframe tbody tr th {\n",
       "        vertical-align: top;\n",
       "    }\n",
       "\n",
       "    .dataframe thead th {\n",
       "        text-align: right;\n",
       "    }\n",
       "</style>\n",
       "<table border=\"1\" class=\"dataframe\">\n",
       "  <thead>\n",
       "    <tr style=\"text-align: right;\">\n",
       "      <th></th>\n",
       "      <th>Temperature</th>\n",
       "      <th>RH</th>\n",
       "      <th>Ws</th>\n",
       "      <th>Rain</th>\n",
       "      <th>FFMC</th>\n",
       "      <th>DMC</th>\n",
       "      <th>DC</th>\n",
       "      <th>ISI</th>\n",
       "      <th>BUI</th>\n",
       "      <th>FWI</th>\n",
       "    </tr>\n",
       "  </thead>\n",
       "  <tbody>\n",
       "    <tr>\n",
       "      <th>0</th>\n",
       "      <td>29</td>\n",
       "      <td>57</td>\n",
       "      <td>18</td>\n",
       "      <td>0.0</td>\n",
       "      <td>65.7</td>\n",
       "      <td>3.4</td>\n",
       "      <td>7.6</td>\n",
       "      <td>1.3</td>\n",
       "      <td>3.4</td>\n",
       "      <td>0.5</td>\n",
       "    </tr>\n",
       "    <tr>\n",
       "      <th>1</th>\n",
       "      <td>29</td>\n",
       "      <td>61</td>\n",
       "      <td>13</td>\n",
       "      <td>1.3</td>\n",
       "      <td>64.4</td>\n",
       "      <td>4.1</td>\n",
       "      <td>7.6</td>\n",
       "      <td>1.0</td>\n",
       "      <td>3.9</td>\n",
       "      <td>0.4</td>\n",
       "    </tr>\n",
       "    <tr>\n",
       "      <th>2</th>\n",
       "      <td>26</td>\n",
       "      <td>82</td>\n",
       "      <td>22</td>\n",
       "      <td>13.1</td>\n",
       "      <td>47.1</td>\n",
       "      <td>2.5</td>\n",
       "      <td>7.1</td>\n",
       "      <td>0.3</td>\n",
       "      <td>2.7</td>\n",
       "      <td>0.1</td>\n",
       "    </tr>\n",
       "    <tr>\n",
       "      <th>3</th>\n",
       "      <td>25</td>\n",
       "      <td>89</td>\n",
       "      <td>13</td>\n",
       "      <td>2.5</td>\n",
       "      <td>28.6</td>\n",
       "      <td>1.3</td>\n",
       "      <td>6.9</td>\n",
       "      <td>0.0</td>\n",
       "      <td>1.7</td>\n",
       "      <td>0.0</td>\n",
       "    </tr>\n",
       "    <tr>\n",
       "      <th>4</th>\n",
       "      <td>27</td>\n",
       "      <td>77</td>\n",
       "      <td>16</td>\n",
       "      <td>0.0</td>\n",
       "      <td>64.8</td>\n",
       "      <td>3.0</td>\n",
       "      <td>14.2</td>\n",
       "      <td>1.2</td>\n",
       "      <td>3.9</td>\n",
       "      <td>0.5</td>\n",
       "    </tr>\n",
       "  </tbody>\n",
       "</table>\n",
       "</div>"
      ],
      "text/plain": [
       "   Temperature  RH  Ws  Rain  FFMC  DMC    DC  ISI  BUI  FWI\n",
       "0           29  57  18   0.0  65.7  3.4   7.6  1.3  3.4  0.5\n",
       "1           29  61  13   1.3  64.4  4.1   7.6  1.0  3.9  0.4\n",
       "2           26  82  22  13.1  47.1  2.5   7.1  0.3  2.7  0.1\n",
       "3           25  89  13   2.5  28.6  1.3   6.9  0.0  1.7  0.0\n",
       "4           27  77  16   0.0  64.8  3.0  14.2  1.2  3.9  0.5"
      ]
     },
     "execution_count": 35,
     "metadata": {},
     "output_type": "execute_result"
    }
   ],
   "source": [
    "df[num_col].head()"
   ]
  },
  {
   "cell_type": "markdown",
   "id": "476db8c4",
   "metadata": {},
   "source": [
    "# Univariate Data Visualizations"
   ]
  },
  {
   "cell_type": "code",
   "execution_count": 36,
   "id": "a53a46f4",
   "metadata": {},
   "outputs": [
    {
     "data": {
      "image/png": "[encoded data removed]",
      "text/plain": [
       "<Figure size 1080x1080 with 3 Axes>"
      ]
     },
     "metadata": {
      "needs_background": "light"
     },
     "output_type": "display_data"
    }
   ],
   "source": [
    "plt.figure(figsize=(15,15))\n",
    "plt.suptitle('Univariate analysis of Catagorical Variable', fontsize=20, fontweight='bold')\n",
    "cat_col=[fea for fea in df.columns if df[fea].dtype == 'O']\n",
    "\n",
    "for i in range (0, len(cat_col)):\n",
    "    plt.subplot(2,2,i+1)\n",
    "    sns.countplot(df[cat_col[i]])\n",
    "    plt.xlabel(cat_col[i])\n"
   ]
  },
  {
   "cell_type": "code",
   "execution_count": 37,
   "id": "6bc67f1a",
   "metadata": {},
   "outputs": [
    {
     "data": {
      "image/png": "[encoded data removed]",
      "text/plain": [
       "<Figure size 1080x1080 with 10 Axes>"
      ]
     },
     "metadata": {
      "needs_background": "light"
     },
     "output_type": "display_data"
    }
   ],
   "source": [
    "#Univariate Analysis on Numerical feature\n",
    "plt.figure(figsize=(15,15))\n",
    "plt.suptitle('Univariate analysis of Numerical Variable', fontsize=20, fontweight='bold')\n",
    "\n",
    "for i in range (0, len(num_col)):\n",
    "    plt.subplot(5,3,i+1)\n",
    "    sns.distplot(df[num_col[i]], color='g')\n",
    "    plt.xlabel(num_col[i])"
   ]
  },
  {
   "cell_type": "markdown",
   "id": "93c1cd38",
   "metadata": {},
   "source": [
    "Observation:\n",
    "1) Column Temperature,RS,WS are Normally distributed\n",
    "2) Rain column has maximum outliers\n",
    "3) FFMC is Right Skewed\n",
    "4) DMC,DC,ISI,BUI,FWI are Left Skewed"
   ]
  },
  {
   "cell_type": "markdown",
   "id": "637e197b",
   "metadata": {},
   "source": [
    "# Multivariate analysis\n",
    "Multivariate analysis is the analysis of more than one variable.\n",
    "Checking for multicolinearity\n"
   ]
  },
  {
   "cell_type": "code",
   "execution_count": 38,
   "id": "bf6a961b",
   "metadata": {},
   "outputs": [
    {
     "data": {
      "image/png": "[encoded data removed]",
      "text/plain": [
       "<Figure size 720x504 with 2 Axes>"
      ]
     },
     "metadata": {
      "needs_background": "light"
     },
     "output_type": "display_data"
    }
   ],
   "source": [
    "plt.figure(figsize=(10,7))\n",
    "plt.title('corelation plot')\n",
    "sns.heatmap(df[num_col].corr(), annot=True)\n",
    "plt.show()"
   ]
  },
  {
   "cell_type": "markdown",
   "id": "5353804c",
   "metadata": {},
   "source": [
    "Observation:\n",
    "'BUI' is very highly corelated with 'DMC' and 'DC'\n",
    "'DC' is corelated with 'BUI'\n",
    "'ISI' is very highly corelated with 'FWI'\n",
    "'FWI' is very highly corelated with 'BUI'\n",
    "'DC' and 'DMC' are highly corelated"
   ]
  },
  {
   "cell_type": "markdown",
   "id": "9da934a8",
   "metadata": {},
   "source": [
    "Plotting box plots of all variables in one frame :\n",
    "\n",
    "Since the box plot is for continuous variables, firstly create a data frame without the column ‘Classes’. Then drop the column from the DataFrame using the drop( ) function and specify axis=1 to indicate it.\n",
    "\n",
    "Removing column with catagorical variable that is \"Classes\""
   ]
  },
  {
   "cell_type": "code",
   "execution_count": 39,
   "id": "aeb69fce",
   "metadata": {},
   "outputs": [
    {
     "data": {
      "text/plain": [
       "Index(['month', 'Temperature', 'RH', 'Ws', 'Rain', 'FFMC', 'DMC', 'DC', 'ISI',\n",
       "       'BUI', 'FWI', 'Region'],\n",
       "      dtype='object')"
      ]
     },
     "execution_count": 39,
     "metadata": {},
     "output_type": "execute_result"
    }
   ],
   "source": [
    "df1=df.drop(\"Classes\",axis=1)\n",
    "df1.columns"
   ]
  },
  {
   "cell_type": "markdown",
   "id": "e7f57af6",
   "metadata": {},
   "source": [
    "Now lets check the relationship between the other features with \"Classes\" through plots"
   ]
  },
  {
   "cell_type": "code",
   "execution_count": 40,
   "id": "d3f28f5d",
   "metadata": {},
   "outputs": [],
   "source": [
    "#Lets check the Catagorical and Numerical column data in our new dataset df1 and find out some important information saperately\n",
    "cat_df1=[fea for fea in df1.columns if df1[fea].dtype == 'O'] #catagorical data\n",
    "num_df1=[fea for fea in df1.columns if df1[fea].dtype != 'O']  #numarical data"
   ]
  },
  {
   "cell_type": "code",
   "execution_count": 41,
   "id": "9c702d55",
   "metadata": {},
   "outputs": [
    {
     "data": {
      "text/plain": [
       "['month', 'Region']"
      ]
     },
     "execution_count": 41,
     "metadata": {},
     "output_type": "execute_result"
    }
   ],
   "source": [
    "cat_df1"
   ]
  },
  {
   "cell_type": "code",
   "execution_count": 42,
   "id": "99676d34",
   "metadata": {},
   "outputs": [
    {
     "data": {
      "text/plain": [
       "['Temperature', 'RH', 'Ws', 'Rain', 'FFMC', 'DMC', 'DC', 'ISI', 'BUI', 'FWI']"
      ]
     },
     "execution_count": 42,
     "metadata": {},
     "output_type": "execute_result"
    }
   ],
   "source": [
    "num_df1"
   ]
  },
  {
   "cell_type": "code",
   "execution_count": 43,
   "id": "16b0602d",
   "metadata": {},
   "outputs": [
    {
     "data": {
      "image/png": "[encoded data removed]",
      "text/plain": [
       "<Figure size 1440x2880 with 10 Axes>"
      ]
     },
     "metadata": {
      "needs_background": "light"
     },
     "output_type": "display_data"
    }
   ],
   "source": [
    "plt.figure(figsize=(20,40))\n",
    "plt.suptitle(\"Features Vs Classes\",fontweight='bold',y=0.9)\n",
    "for i in range(0, len(num_df1)):\n",
    "    ax = plt.subplot(10, 3, i+1)\n",
    "    sns.boxplot(data = df, x = 'Classes', y = df[num_df1[i]])\n"
   ]
  },
  {
   "cell_type": "code",
   "execution_count": 44,
   "id": "6fb1d49d",
   "metadata": {},
   "outputs": [
    {
     "data": {
      "text/plain": [
       "<AxesSubplot:>"
      ]
     },
     "execution_count": 44,
     "metadata": {},
     "output_type": "execute_result"
    },
    {
     "data": {
      "image/png": "[encoded data removed]",
      "text/plain": [
       "<Figure size 1440x720 with 1 Axes>"
      ]
     },
     "metadata": {
      "needs_background": "light"
     },
     "output_type": "display_data"
    }
   ],
   "source": [
    "#OR\n",
    "plt.figure(figsize=(20,10))\n",
    "sns.boxplot(data = df, orient='v')"
   ]
  },
  {
   "cell_type": "code",
   "execution_count": 45,
   "id": "8cb147d7",
   "metadata": {},
   "outputs": [
    {
     "data": {
      "text/plain": [
       "<AxesSubplot:title={'center':'Bar graph showing the incident of fire in various Temperature'}, xlabel='Temperature', ylabel='count'>"
      ]
     },
     "execution_count": 45,
     "metadata": {},
     "output_type": "execute_result"
    },
    {
     "data": {
      "image/png": "[encoded data removed]",
      "text/plain": [
       "<Figure size 720x720 with 1 Axes>"
      ]
     },
     "metadata": {
      "needs_background": "light"
     },
     "output_type": "display_data"
    }
   ],
   "source": [
    "# Checking for Temperature column for impact on fire \n",
    "plt.figure(figsize=(10,10))\n",
    "plt.title('Bar graph showing the incident of fire in various Temperature')\n",
    "sns.countplot(data= df, hue = 'Classes', x= 'Temperature', palette = \"muted\")"
   ]
  },
  {
   "cell_type": "code",
   "execution_count": 46,
   "id": "1cca17f8",
   "metadata": {},
   "outputs": [
    {
     "data": {
      "text/plain": [
       "<AxesSubplot:title={'center':'Bar graph showing the incident of fire in various region'}, xlabel='Region', ylabel='count'>"
      ]
     },
     "execution_count": 46,
     "metadata": {},
     "output_type": "execute_result"
    },
    {
     "data": {
      "image/png": "[encoded data removed]",
      "text/plain": [
       "<Figure size 720x720 with 1 Axes>"
      ]
     },
     "metadata": {
      "needs_background": "light"
     },
     "output_type": "display_data"
    }
   ],
   "source": [
    "# Checking for region column for impact on fire \n",
    "plt.figure(figsize=(10,10))\n",
    "plt.title('Bar graph showing the incident of fire in various region')\n",
    "sns.countplot(data= df, hue = 'Classes', x= 'Region', palette = \"muted\")"
   ]
  },
  {
   "cell_type": "code",
   "execution_count": 47,
   "id": "237c17ee",
   "metadata": {},
   "outputs": [
    {
     "data": {
      "text/plain": [
       "<AxesSubplot:title={'center':'Bar graph showing realtion between fire and wind speed'}, xlabel='Ws', ylabel='count'>"
      ]
     },
     "execution_count": 47,
     "metadata": {},
     "output_type": "execute_result"
    },
    {
     "data": {
      "image/png": "[encoded data removed]",
      "text/plain": [
       "<Figure size 360x360 with 1 Axes>"
      ]
     },
     "metadata": {
      "needs_background": "light"
     },
     "output_type": "display_data"
    }
   ],
   "source": [
    "# Checking for Wind speed column for impact on fire \n",
    "plt.figure(figsize=(5,5))\n",
    "plt.title('Bar graph showing realtion between fire and wind speed')\n",
    "sns.countplot(data= df, hue = 'Classes', x= 'Ws', palette = \"muted\")"
   ]
  },
  {
   "cell_type": "markdown",
   "id": "5cc66c5e",
   "metadata": {},
   "source": [
    "We can see Fire occurance when wind speed is bet 8 to 21 so initially if we conclude that fire increases as wind speed increases but we can see that after 21 there is no fire so this contradicts each other thats why wind has no impact on fire."
   ]
  },
  {
   "cell_type": "code",
   "execution_count": 48,
   "id": "e35979fa",
   "metadata": {},
   "outputs": [
    {
     "data": {
      "text/plain": [
       "<AxesSubplot:title={'center':'Bar graph showing realtion between fire and wind speed'}, xlabel='Rain', ylabel='count'>"
      ]
     },
     "execution_count": 48,
     "metadata": {},
     "output_type": "execute_result"
    },
    {
     "data": {
      "image/png": "[encoded data removed]",
      "text/plain": [
       "<Figure size 720x576 with 1 Axes>"
      ]
     },
     "metadata": {
      "needs_background": "light"
     },
     "output_type": "display_data"
    }
   ],
   "source": [
    "# Checking for Rain column for impact on fire \n",
    "plt.figure(figsize=(10,8))\n",
    "plt.title('Bar graph showing realtion between fire and wind speed')\n",
    "sns.countplot(data= df, hue = 'Classes', x= 'Rain', palette = \"muted\")"
   ]
  },
  {
   "cell_type": "code",
   "execution_count": 49,
   "id": "c5128e09",
   "metadata": {},
   "outputs": [
    {
     "data": {
      "text/plain": [
       "<AxesSubplot:title={'center':'Bar graph showing realtion between fire and month'}, xlabel='month', ylabel='count'>"
      ]
     },
     "execution_count": 49,
     "metadata": {},
     "output_type": "execute_result"
    },
    {
     "data": {
      "image/png": "[encoded data removed]",
      "text/plain": [
       "<Figure size 360x360 with 1 Axes>"
      ]
     },
     "metadata": {
      "needs_background": "light"
     },
     "output_type": "display_data"
    }
   ],
   "source": [
    "# Checking the month in which the fire occurance is more\n",
    "plt.figure(figsize=(5,5))\n",
    "plt.title('Bar graph showing realtion between fire and month')\n",
    "sns.countplot(data= df, hue = 'Classes', x= 'month', palette = \"muted\")"
   ]
  },
  {
   "cell_type": "markdown",
   "id": "531b6da7",
   "metadata": {},
   "source": [
    "Final Conclusion"
   ]
  },
  {
   "cell_type": "markdown",
   "id": "8d6361c1",
   "metadata": {},
   "source": [
    "1. If temperature increses above 26 degrees there are more fire chances"
   ]
  },
  {
   "cell_type": "markdown",
   "id": "2cb8b30e",
   "metadata": {},
   "source": [
    "2. We can see Fire occurance when wind speed is bet 8 to 21 so initially if we conclude that fire increases as wind speed increases but we can see that after 21 there is no fire so this contradicts each other thats why wind has no impact on fire."
   ]
  },
  {
   "cell_type": "markdown",
   "id": "b49470db",
   "metadata": {},
   "source": [
    "3. If Rain increases Fire decreases"
   ]
  },
  {
   "cell_type": "markdown",
   "id": "c8b0d6de",
   "metadata": {},
   "source": [
    "4. There is more Fire in Sidi-Bel Abbes Region and chances of Fire are high in July and August"
   ]
  },
  {
   "cell_type": "markdown",
   "id": "cc56f89f",
   "metadata": {},
   "source": [
    "# Simple Linear Regression"
   ]
  },
  {
   "cell_type": "code",
   "execution_count": 50,
   "id": "f76d4274",
   "metadata": {},
   "outputs": [],
   "source": [
    "import pandas as pd\n",
    "import numpy as np\n",
    "import seaborn as sns\n",
    "import matplotlib.pyplot as plt\n",
    "%matplotlib inline"
   ]
  },
  {
   "cell_type": "code",
   "execution_count": 51,
   "id": "c854fd39",
   "metadata": {},
   "outputs": [
    {
     "data": {
      "text/plain": [
       "Index(['month', 'Temperature', 'RH', 'Ws', 'Rain', 'FFMC', 'DMC', 'DC', 'ISI',\n",
       "       'BUI', 'FWI', 'Classes', 'Region'],\n",
       "      dtype='object')"
      ]
     },
     "execution_count": 51,
     "metadata": {},
     "output_type": "execute_result"
    }
   ],
   "source": [
    "df.keys()"
   ]
  },
  {
   "cell_type": "markdown",
   "id": "d3b135e7",
   "metadata": {},
   "source": [
    "Consider temperature as our target variable. "
   ]
  },
  {
   "cell_type": "code",
   "execution_count": 52,
   "id": "c099746a",
   "metadata": {},
   "outputs": [
    {
     "data": {
      "text/plain": [
       "<AxesSubplot:xlabel='Temperature'>"
      ]
     },
     "execution_count": 52,
     "metadata": {},
     "output_type": "execute_result"
    },
    {
     "data": {
      "image/png": "[encoded data removed]",
      "text/plain": [
       "<Figure size 432x288 with 1 Axes>"
      ]
     },
     "metadata": {
      "needs_background": "light"
     },
     "output_type": "display_data"
    }
   ],
   "source": [
    "#outlier\n",
    "sns.boxplot(df['Temperature'])"
   ]
  },
  {
   "cell_type": "code",
   "execution_count": 53,
   "id": "1ce17933",
   "metadata": {},
   "outputs": [
    {
     "data": {
      "text/plain": [
       "<AxesSubplot:xlabel='Temperature', ylabel='Rain'>"
      ]
     },
     "execution_count": 53,
     "metadata": {},
     "output_type": "execute_result"
    },
    {
     "data": {
      "image/png": "[encoded data removed]",
      "text/plain": [
       "<Figure size 720x648 with 1 Axes>"
      ]
     },
     "metadata": {
      "needs_background": "light"
     },
     "output_type": "display_data"
    }
   ],
   "source": [
    "##Ridge Regression\n",
    "plt.figure(figsize=(10,9))\n",
    "sns.regplot(x=\"Temperature\",y=\"Rain\",data=df)"
   ]
  },
  {
   "cell_type": "code",
   "execution_count": 54,
   "id": "bb9f91ff",
   "metadata": {},
   "outputs": [
    {
     "data": {
      "text/plain": [
       "<AxesSubplot:xlabel='Temperature', ylabel='ISI'>"
      ]
     },
     "execution_count": 54,
     "metadata": {},
     "output_type": "execute_result"
    },
    {
     "data": {
      "image/png": "[encoded data removed]",
      "text/plain": [
       "<Figure size 720x720 with 1 Axes>"
      ]
     },
     "metadata": {
      "needs_background": "light"
     },
     "output_type": "display_data"
    }
   ],
   "source": [
    "plt.figure(figsize=(10,10))\n",
    "sns.regplot(x=\"Temperature\",y=\"ISI\",data=df)"
   ]
  },
  {
   "cell_type": "code",
   "execution_count": 55,
   "id": "2ba29f63",
   "metadata": {},
   "outputs": [],
   "source": [
    "#we can see the bestfit line and the shaded region are Ridge and Lasso"
   ]
  },
  {
   "cell_type": "markdown",
   "id": "65d8ac89",
   "metadata": {},
   "source": [
    "Independent and Dependent feature"
   ]
  },
  {
   "cell_type": "code",
   "execution_count": 56,
   "id": "c7884de3",
   "metadata": {},
   "outputs": [
    {
     "data": {
      "text/plain": [
       "Index(['month', 'Temperature', 'RH', 'Ws', 'Rain', 'FFMC', 'DMC', 'DC', 'ISI',\n",
       "       'BUI', 'FWI', 'Classes', 'Region'],\n",
       "      dtype='object')"
      ]
     },
     "execution_count": 56,
     "metadata": {},
     "output_type": "execute_result"
    }
   ],
   "source": [
    "df.columns"
   ]
  },
  {
   "cell_type": "code",
   "execution_count": 57,
   "id": "4a387fab",
   "metadata": {},
   "outputs": [],
   "source": [
    "#Independent feature: \n",
    "X=pd.DataFrame(df,columns=['RH', 'Ws', 'Rain', 'FFMC', 'DMC', 'DC', 'ISI',\n",
    "       'BUI', 'FWI', 'Region'])\n",
    "\n",
    "#Dependent variable: Target feature is Temperature\n",
    "Y=pd.DataFrame(df,columns=['Temperature'])\n",
    "\n",
    "#month can be removed as its not required for now\n"
   ]
  },
  {
   "cell_type": "code",
   "execution_count": 58,
   "id": "003a9cae",
   "metadata": {},
   "outputs": [
    {
     "data": {
      "text/html": [
       "<div>\n",
       "<style scoped>\n",
       "    .dataframe tbody tr th:only-of-type {\n",
       "        vertical-align: middle;\n",
       "    }\n",
       "\n",
       "    .dataframe tbody tr th {\n",
       "        vertical-align: top;\n",
       "    }\n",
       "\n",
       "    .dataframe thead th {\n",
       "        text-align: right;\n",
       "    }\n",
       "</style>\n",
       "<table border=\"1\" class=\"dataframe\">\n",
       "  <thead>\n",
       "    <tr style=\"text-align: right;\">\n",
       "      <th></th>\n",
       "      <th>RH</th>\n",
       "      <th>Ws</th>\n",
       "      <th>Rain</th>\n",
       "      <th>FFMC</th>\n",
       "      <th>DMC</th>\n",
       "      <th>DC</th>\n",
       "      <th>ISI</th>\n",
       "      <th>BUI</th>\n",
       "      <th>FWI</th>\n",
       "      <th>Region</th>\n",
       "    </tr>\n",
       "  </thead>\n",
       "  <tbody>\n",
       "    <tr>\n",
       "      <th>0</th>\n",
       "      <td>57</td>\n",
       "      <td>18</td>\n",
       "      <td>0.0</td>\n",
       "      <td>65.7</td>\n",
       "      <td>3.4</td>\n",
       "      <td>7.6</td>\n",
       "      <td>1.3</td>\n",
       "      <td>3.4</td>\n",
       "      <td>0.5</td>\n",
       "      <td>0</td>\n",
       "    </tr>\n",
       "    <tr>\n",
       "      <th>1</th>\n",
       "      <td>61</td>\n",
       "      <td>13</td>\n",
       "      <td>1.3</td>\n",
       "      <td>64.4</td>\n",
       "      <td>4.1</td>\n",
       "      <td>7.6</td>\n",
       "      <td>1.0</td>\n",
       "      <td>3.9</td>\n",
       "      <td>0.4</td>\n",
       "      <td>0</td>\n",
       "    </tr>\n",
       "    <tr>\n",
       "      <th>2</th>\n",
       "      <td>82</td>\n",
       "      <td>22</td>\n",
       "      <td>13.1</td>\n",
       "      <td>47.1</td>\n",
       "      <td>2.5</td>\n",
       "      <td>7.1</td>\n",
       "      <td>0.3</td>\n",
       "      <td>2.7</td>\n",
       "      <td>0.1</td>\n",
       "      <td>0</td>\n",
       "    </tr>\n",
       "    <tr>\n",
       "      <th>3</th>\n",
       "      <td>89</td>\n",
       "      <td>13</td>\n",
       "      <td>2.5</td>\n",
       "      <td>28.6</td>\n",
       "      <td>1.3</td>\n",
       "      <td>6.9</td>\n",
       "      <td>0.0</td>\n",
       "      <td>1.7</td>\n",
       "      <td>0.0</td>\n",
       "      <td>0</td>\n",
       "    </tr>\n",
       "    <tr>\n",
       "      <th>4</th>\n",
       "      <td>77</td>\n",
       "      <td>16</td>\n",
       "      <td>0.0</td>\n",
       "      <td>64.8</td>\n",
       "      <td>3.0</td>\n",
       "      <td>14.2</td>\n",
       "      <td>1.2</td>\n",
       "      <td>3.9</td>\n",
       "      <td>0.5</td>\n",
       "      <td>0</td>\n",
       "    </tr>\n",
       "  </tbody>\n",
       "</table>\n",
       "</div>"
      ],
      "text/plain": [
       "   RH  Ws  Rain  FFMC  DMC    DC  ISI  BUI  FWI Region\n",
       "0  57  18   0.0  65.7  3.4   7.6  1.3  3.4  0.5      0\n",
       "1  61  13   1.3  64.4  4.1   7.6  1.0  3.9  0.4      0\n",
       "2  82  22  13.1  47.1  2.5   7.1  0.3  2.7  0.1      0\n",
       "3  89  13   2.5  28.6  1.3   6.9  0.0  1.7  0.0      0\n",
       "4  77  16   0.0  64.8  3.0  14.2  1.2  3.9  0.5      0"
      ]
     },
     "execution_count": 58,
     "metadata": {},
     "output_type": "execute_result"
    }
   ],
   "source": [
    "X.head()"
   ]
  },
  {
   "cell_type": "code",
   "execution_count": 59,
   "id": "04c16c46",
   "metadata": {},
   "outputs": [
    {
     "data": {
      "text/html": [
       "<div>\n",
       "<style scoped>\n",
       "    .dataframe tbody tr th:only-of-type {\n",
       "        vertical-align: middle;\n",
       "    }\n",
       "\n",
       "    .dataframe tbody tr th {\n",
       "        vertical-align: top;\n",
       "    }\n",
       "\n",
       "    .dataframe thead th {\n",
       "        text-align: right;\n",
       "    }\n",
       "</style>\n",
       "<table border=\"1\" class=\"dataframe\">\n",
       "  <thead>\n",
       "    <tr style=\"text-align: right;\">\n",
       "      <th></th>\n",
       "      <th>Temperature</th>\n",
       "    </tr>\n",
       "  </thead>\n",
       "  <tbody>\n",
       "    <tr>\n",
       "      <th>0</th>\n",
       "      <td>29</td>\n",
       "    </tr>\n",
       "    <tr>\n",
       "      <th>1</th>\n",
       "      <td>29</td>\n",
       "    </tr>\n",
       "    <tr>\n",
       "      <th>2</th>\n",
       "      <td>26</td>\n",
       "    </tr>\n",
       "    <tr>\n",
       "      <th>3</th>\n",
       "      <td>25</td>\n",
       "    </tr>\n",
       "    <tr>\n",
       "      <th>4</th>\n",
       "      <td>27</td>\n",
       "    </tr>\n",
       "  </tbody>\n",
       "</table>\n",
       "</div>"
      ],
      "text/plain": [
       "   Temperature\n",
       "0           29\n",
       "1           29\n",
       "2           26\n",
       "3           25\n",
       "4           27"
      ]
     },
     "execution_count": 59,
     "metadata": {},
     "output_type": "execute_result"
    }
   ],
   "source": [
    "Y.head()"
   ]
  },
  {
   "cell_type": "markdown",
   "id": "c4bf5275",
   "metadata": {},
   "source": [
    "# Train-Test data"
   ]
  },
  {
   "cell_type": "code",
   "execution_count": 60,
   "id": "48ce7562",
   "metadata": {},
   "outputs": [
    {
     "data": {
      "text/plain": [
       "(244, 13)"
      ]
     },
     "execution_count": 60,
     "metadata": {},
     "output_type": "execute_result"
    }
   ],
   "source": [
    "df.shape"
   ]
  },
  {
   "cell_type": "code",
   "execution_count": 61,
   "id": "cf9061c5",
   "metadata": {},
   "outputs": [],
   "source": [
    "from sklearn.model_selection import train_test_split #test data is used to validate data\n",
    "X_train,X_test,Y_train,Y_test=train_test_split(\n",
    "X,Y,test_size=0.33,random_state=10)"
   ]
  },
  {
   "cell_type": "code",
   "execution_count": 62,
   "id": "0a011f60",
   "metadata": {},
   "outputs": [
    {
     "data": {
      "text/plain": [
       "(163, 1)"
      ]
     },
     "execution_count": 62,
     "metadata": {},
     "output_type": "execute_result"
    }
   ],
   "source": [
    "Y_train.shape"
   ]
  },
  {
   "cell_type": "code",
   "execution_count": 63,
   "id": "77130405",
   "metadata": {},
   "outputs": [
    {
     "data": {
      "text/plain": [
       "(163, 10)"
      ]
     },
     "execution_count": 63,
     "metadata": {},
     "output_type": "execute_result"
    }
   ],
   "source": [
    "X_train.shape"
   ]
  },
  {
   "cell_type": "code",
   "execution_count": 64,
   "id": "d82d9607",
   "metadata": {},
   "outputs": [
    {
     "data": {
      "text/plain": [
       "(81, 1)"
      ]
     },
     "execution_count": 64,
     "metadata": {},
     "output_type": "execute_result"
    }
   ],
   "source": [
    "Y_test.shape"
   ]
  },
  {
   "cell_type": "code",
   "execution_count": 65,
   "id": "e3b65be0",
   "metadata": {},
   "outputs": [
    {
     "data": {
      "text/plain": [
       "(81, 10)"
      ]
     },
     "execution_count": 65,
     "metadata": {},
     "output_type": "execute_result"
    }
   ],
   "source": [
    "X_test.shape"
   ]
  },
  {
   "cell_type": "code",
   "execution_count": 66,
   "id": "e7e5dd1d",
   "metadata": {},
   "outputs": [],
   "source": [
    "#163+81=244 rows"
   ]
  },
  {
   "cell_type": "markdown",
   "id": "7e7f99c5",
   "metadata": {},
   "source": [
    "# Standardize or feature scaling"
   ]
  },
  {
   "cell_type": "code",
   "execution_count": 67,
   "id": "75677ab4",
   "metadata": {},
   "outputs": [],
   "source": [
    "from sklearn.preprocessing import StandardScaler\n",
    "scaler=StandardScaler()"
   ]
  },
  {
   "cell_type": "code",
   "execution_count": 68,
   "id": "aa90e312",
   "metadata": {},
   "outputs": [
    {
     "data": {
      "text/plain": [
       "StandardScaler()"
      ]
     },
     "execution_count": 68,
     "metadata": {},
     "output_type": "execute_result"
    }
   ],
   "source": [
    "scaler"
   ]
  },
  {
   "cell_type": "code",
   "execution_count": 69,
   "id": "50339c5f",
   "metadata": {},
   "outputs": [],
   "source": [
    "X_train=scaler.fit_transform(X_train)  #fit_transform=take and change the data"
   ]
  },
  {
   "cell_type": "code",
   "execution_count": 70,
   "id": "b07d4d53",
   "metadata": {},
   "outputs": [],
   "source": [
    "X_test=scaler.transform(X_test)"
   ]
  },
  {
   "cell_type": "code",
   "execution_count": 71,
   "id": "f4382049",
   "metadata": {},
   "outputs": [
    {
     "data": {
      "text/plain": [
       "array([[-0.85631108, -3.36419461,  0.88853946, ..., -0.32636097,\n",
       "        -0.86597829,  0.98176139],\n",
       "       [-0.52508491,  0.99944243, -0.441414  , ...,  0.76499972,\n",
       "         1.21371864, -1.01857744],\n",
       "       [ 0.13736742,  0.99944243, -0.441414  , ...,  0.35224151,\n",
       "         0.48516239, -1.01857744],\n",
       "       ...,\n",
       "       [-0.72382061, -0.81873967, -0.441414  , ...,  0.08639724,\n",
       "         0.37919057,  0.98176139],\n",
       "       [ 0.13736742, -0.45510325, -0.441414  , ..., -0.76710278,\n",
       "        -0.78649943,  0.98176139],\n",
       "       [ 1.13104591, -1.18237609, -0.441414  , ..., -0.27738965,\n",
       "        -0.7997459 , -1.01857744]])"
      ]
     },
     "execution_count": 71,
     "metadata": {},
     "output_type": "execute_result"
    }
   ],
   "source": [
    "X_train"
   ]
  },
  {
   "cell_type": "code",
   "execution_count": 72,
   "id": "43dd63bf",
   "metadata": {},
   "outputs": [
    {
     "data": {
      "text/plain": [
       "array([[-3.92594448e-01, -9.14668296e-02,  1.48701853e+00,\n",
       "        -1.82411230e-01, -6.02677495e-01, -8.21325921e-01,\n",
       "        -7.33709998e-01, -6.83151962e-01, -8.12992382e-01,\n",
       "         9.81761387e-01],\n",
       "       [ 1.37367416e-01,  6.35806011e-01, -4.41414004e-01,\n",
       "         6.64566895e-01,  1.37979749e+00,  2.03374779e+00,\n",
       "         5.03148781e-01,  1.72343828e+00,  1.16073273e+00,\n",
       "        -1.01857744e+00],\n",
       "       [-1.12129201e+00, -4.55103250e-01, -4.41414004e-01,\n",
       "         9.08075201e-02, -7.86536062e-01, -8.06652268e-01,\n",
       "        -6.38567015e-01, -8.30065901e-01, -7.99745905e-01,\n",
       "        -1.01857744e+00],\n",
       "       [ 7.11221826e-02, -4.55103250e-01, -2.41920984e-01,\n",
       "        -5.94627923e-02, -7.14591405e-01, -8.10844740e-01,\n",
       "        -7.09924252e-01, -7.74098686e-01, -8.12992382e-01,\n",
       "        -1.01857744e+00],\n",
       "       [-1.93858749e-01,  6.35806011e-01, -4.41414004e-01,\n",
       "         6.78227832e-01,  1.28490116e-02,  1.74386276e-01,\n",
       "         5.26934527e-01,  9.33931438e-02,  3.92437047e-01,\n",
       "        -1.01857744e+00],\n",
       "       [-5.91330147e-01,  2.72169591e-01, -4.41414004e-01,\n",
       "         8.21667676e-01,  1.83544698e+00,  2.36495311e+00,\n",
       "         1.35943563e+00,  2.16418009e+00,  2.03500022e+00,\n",
       "        -1.01857744e+00],\n",
       "       [-5.91330147e-01,  1.36307885e+00, -4.41414004e-01,\n",
       "         8.01176270e-01,  1.96707579e-01,  1.04642054e+00,\n",
       "         1.26429264e+00,  5.13147255e-01,  1.10774682e+00,\n",
       "        -1.01857744e+00],\n",
       "       [-5.91330147e-01,  6.35806011e-01, -1.08925637e-01,\n",
       "         1.86434082e-01,  4.84486205e-01,  2.10711606e+00,\n",
       "        -4.72066794e-01,  9.81872679e-01, -1.37422043e-01,\n",
       "         9.81761387e-01],\n",
       "       [ 5.34838813e-01, -4.55103250e-01, -4.41414004e-01,\n",
       "         3.64026270e-01, -4.18818928e-01, -3.05651815e-01,\n",
       "        -3.53138066e-01, -3.82328182e-01, -4.42091020e-01,\n",
       "        -1.01857744e+00],\n",
       "       [ 7.11221826e-02, -4.55103250e-01, -4.41414004e-01,\n",
       "         6.50905957e-01, -2.98911167e-01, -2.44860965e-01,\n",
       "         2.17719832e-01, -2.84385556e-01, -1.82037479e-02,\n",
       "        -1.01857744e+00],\n",
       "       [-3.92594448e-01,  2.72169591e-01, -4.41414004e-01,\n",
       "         7.80684863e-01,  7.32295578e-01,  1.76482512e-01,\n",
       "         8.36149222e-01,  5.06151353e-01,  8.29570795e-01,\n",
       "         9.81761387e-01],\n",
       "       [ 9.98555444e-01,  2.09035169e+00,  7.55544118e-01,\n",
       "        -1.29577764e+00, -1.01835773e+00, -8.44384520e-01,\n",
       "        -8.52638726e-01, -9.90971643e-01, -8.79224768e-01,\n",
       "        -1.01857744e+00],\n",
       "       [-1.84998957e+00,  2.72169591e-01, -3.08418657e-01,\n",
       "         7.39702051e-01,  1.80719877e-01, -7.50658327e-02,\n",
       "         6.69649001e-01,  6.54095363e-02,  4.71915910e-01,\n",
       "         9.81761387e-01],\n",
       "       [ 6.01084046e-01, -4.55103250e-01,  3.88093477e+00,\n",
       "        -8.85949510e-01, -9.06443823e-01, -8.29710866e-01,\n",
       "        -8.76424472e-01, -9.14016723e-01, -8.65978291e-01,\n",
       "         9.81761387e-01],\n",
       "       [-9.88801544e-01,  9.99442431e-01,  3.54844640e+00,\n",
       "         2.27416895e-01, -3.86843525e-01, -8.17133449e-01,\n",
       "        -3.76923811e-01, -5.01258514e-01, -5.21569883e-01,\n",
       "         9.81761387e-01],\n",
       "       [ 5.34838813e-01,  2.72169591e-01, -4.41414004e-01,\n",
       "         5.82601270e-01, -1.47028003e-01, -4.83831892e-01,\n",
       "         1.70148341e-01, -2.70393753e-01, -3.14502251e-02,\n",
       "         9.81761387e-01],\n",
       "       [-5.25084914e-01, -1.54601251e+00, -3.74916331e-01,\n",
       "         4.25500489e-01, -4.98757435e-01, -4.69158239e-01,\n",
       "        -3.76923811e-01, -5.08254416e-01, -5.08323406e-01,\n",
       "         9.81761387e-01],\n",
       "       [ 1.06480068e+00, -4.55103250e-01,  4.89553424e-01,\n",
       "        -2.21789092e+00, -1.01835773e+00, -8.63250645e-01,\n",
       "        -1.06671044e+00, -9.90971643e-01, -9.05717723e-01,\n",
       "        -1.01857744e+00],\n",
       "       [-1.78374434e+00, -9.14668296e-02, -4.41414004e-01,\n",
       "         1.11537783e+00,  6.68344772e-01, -1.25375502e-01,\n",
       "         2.62008015e+00,  4.43188236e-01,  1.84954954e+00,\n",
       "         9.81761387e-01],\n",
       "       [-7.90065846e-01,  2.72169591e-01, -4.41414004e-01,\n",
       "         8.48989551e-01,  1.44374829e+00,  4.67859344e-01,\n",
       "         1.14536392e+00,  1.12179072e+00,  1.37267636e+00,\n",
       "         9.81761387e-01],\n",
       "       [ 2.03612648e-01, -4.55103250e-01, -4.41414004e-01,\n",
       "         4.80144239e-01, -1.71009555e-01,  1.17787898e-01,\n",
       "        -1.62852100e-01, -5.35207952e-02, -1.77161475e-01,\n",
       "        -1.01857744e+00],\n",
       "       [-1.93858749e-01,  1.36307885e+00, -4.41414004e-01,\n",
       "         7.94345801e-01,  1.05204961e+00,  2.50540093e+00,\n",
       "         1.21672115e+00,  1.59051614e+00,  1.65085238e+00,\n",
       "         9.81761387e-01],\n",
       "       [-5.91330147e-01,  9.99442431e-01, -4.41414004e-01,\n",
       "         7.87515332e-01,  5.56430862e-01,  6.62809311e-01,\n",
       "         1.07400668e+00,  6.46069390e-01,  1.06800739e+00,\n",
       "        -1.01857744e+00],\n",
       "       [ 4.87694966e-03,  2.72169591e-01, -4.41414004e-01,\n",
       "         7.05549707e-01,  1.48744474e-01, -2.97266870e-01,\n",
       "         5.50720273e-01, -1.15453840e-02,  3.39451138e-01,\n",
       "         9.81761387e-01],\n",
       "       [-1.91623481e+00,  6.35806011e-01, -4.41414004e-01,\n",
       "         1.10854736e+00,  1.96707579e-01, -3.47576539e-01,\n",
       "         2.97686634e+00,  2.34341252e-02,  1.66409886e+00,\n",
       "         9.81761387e-01],\n",
       "       [ 1.85974347e+00, -9.14668296e-02, -4.41414004e-01,\n",
       "        -7.28848729e-01, -5.94683644e-01, -7.12321639e-01,\n",
       "        -8.28852981e-01, -6.62164256e-01, -8.39485337e-01,\n",
       "         9.81761387e-01],\n",
       "       [-6.13682833e-02,  9.99442431e-01, -2.41920984e-01,\n",
       "         1.86434082e-01, -2.34960361e-01,  8.74529168e-01,\n",
       "        -4.48281049e-01,  7.24054382e-02, -3.62612156e-01,\n",
       "        -1.01857744e+00],\n",
       "       [-9.88801544e-01, -4.55103250e-01,  2.40697100e-02,\n",
       "         2.01142638e-03, -6.02677495e-01, -8.35999575e-01,\n",
       "        -6.86138506e-01, -6.83151962e-01, -7.99745905e-01,\n",
       "        -1.01857744e+00],\n",
       "       [ 1.19729114e+00,  2.72169591e-01,  7.55544118e-01,\n",
       "        -2.05395967e+00, -9.38419226e-01, -8.59058173e-01,\n",
       "        -1.04292469e+00, -9.48996232e-01, -9.05717723e-01,\n",
       "        -1.01857744e+00],\n",
       "       [ 1.13104591e+00, -9.14668296e-02, -4.41414004e-01,\n",
       "         5.41618457e-01,  1.10800656e+00,  1.83041288e+00,\n",
       "         3.64812051e-03,  1.45759401e+00,  4.98408864e-01,\n",
       "        -1.01857744e+00],\n",
       "       [ 1.26353638e+00,  2.09035169e+00,  3.41545106e+00,\n",
       "        -1.97199404e+00, -9.30425375e-01, -8.59058173e-01,\n",
       "        -1.01913895e+00, -9.48996232e-01, -9.05717723e-01,\n",
       "        -1.01857744e+00],\n",
       "       [ 1.59476254e+00,  2.72169591e-01, -4.41414004e-01,\n",
       "        -2.70285420e+00, -1.09829624e+00, -8.48576992e-01,\n",
       "        -1.09049618e+00, -1.06093066e+00, -9.18964200e-01,\n",
       "         9.81761387e-01],\n",
       "       [-5.25084914e-01, -8.18739670e-01, -4.41414004e-01,\n",
       "         7.32871582e-01, -3.78849674e-01, -3.81116318e-01,\n",
       "         4.08005798e-01, -3.96319986e-01,  3.47821611e-02,\n",
       "        -1.01857744e+00],\n",
       "       [-7.23820613e-01,  2.72169591e-01,  2.08549759e+00,\n",
       "         2.01142638e-03, -5.30732838e-01, -8.21325921e-01,\n",
       "        -6.38567015e-01, -6.20188845e-01, -7.46759996e-01,\n",
       "         9.81761387e-01],\n",
       "       [ 1.37367416e-01, -9.14668296e-02, -4.41414004e-01,\n",
       "         6.30414551e-01, -3.51140928e-02,  3.16930338e-01,\n",
       "         2.41505578e-01,  1.21376751e-01,  1.93739888e-01,\n",
       "        -1.01857744e+00],\n",
       "       [ 3.36103114e-01,  1.36307885e+00, -4.41414004e-01,\n",
       "        -1.41428417e-01, -9.38419226e-01, -6.78781859e-01,\n",
       "        -6.38567015e-01, -8.79037214e-01, -8.12992382e-01,\n",
       "         9.81761387e-01],\n",
       "       [ 1.19729114e+00,  2.72169591e-01, -1.75423310e-01,\n",
       "        -1.20698154e+00, -8.98449972e-01, -4.52388349e-01,\n",
       "        -9.00210218e-01, -8.02082293e-01, -8.65978291e-01,\n",
       "        -1.01857744e+00],\n",
       "       [ 4.87694966e-03, -9.14668296e-02, -4.41414004e-01,\n",
       "         3.98178614e-01, -7.06597555e-01, -6.49434553e-01,\n",
       "        -2.10423591e-01, -7.11135569e-01, -4.95076928e-01,\n",
       "         9.81761387e-01],\n",
       "       [ 1.32978161e+00, -9.14668296e-02, -1.75423310e-01,\n",
       "        -2.22472138e+00, -1.09829624e+00, -8.67443118e-01,\n",
       "        -1.06671044e+00, -1.06093066e+00, -9.18964200e-01,\n",
       "        -1.01857744e+00],\n",
       "       [-9.22556312e-01, -8.18739670e-01, -4.41414004e-01,\n",
       "         8.76311426e-01,  6.04393966e-01,  1.25394792e+00,\n",
       "         9.55077950e-01,  8.97921857e-01,  1.10774682e+00,\n",
       "        -1.01857744e+00],\n",
       "       [ 4.02348347e-01,  1.36307885e+00, -4.41414004e-01,\n",
       "         7.39702051e-01,  9.00166443e-01,  1.71721612e+00,\n",
       "         9.78863696e-01,  1.26870466e+00,  1.30644398e+00,\n",
       "        -1.01857744e+00],\n",
       "       [-4.58839681e-01, -9.14668296e-02, -4.41414004e-01,\n",
       "         8.08006738e-01,  1.09201886e+00,  3.88202368e-01,\n",
       "         8.59934967e-01,  8.20966936e-01,  1.00177500e+00,\n",
       "         9.81761387e-01],\n",
       "       [-1.32002771e+00,  2.09035169e+00, -4.41414004e-01,\n",
       "         8.96802832e-01,  2.84639937e-01, -3.81116318e-01,\n",
       "         2.07300800e+00,  1.00389046e-01,  1.29319750e+00,\n",
       "         9.81761387e-01],\n",
       "       [ 8.66064978e-01,  2.72169591e-01, -4.41414004e-01,\n",
       "         3.23043457e-01, -8.18511465e-01, -5.11082963e-01,\n",
       "        -3.29352320e-01, -7.39119177e-01, -5.87802269e-01,\n",
       "         9.81761387e-01],\n",
       "       [-1.38627294e+00, -1.90964893e+00, -3.74916331e-01,\n",
       "         9.92429394e-01,  6.36369369e-01,  3.44181408e-01,\n",
       "         1.14536392e+00,  5.34134960e-01,  1.04151443e+00,\n",
       "         9.81761387e-01],\n",
       "       [-4.58839681e-01, -4.55103250e-01, -4.41414004e-01,\n",
       "         7.80684863e-01,  3.16615340e-01,  3.84009896e-01,\n",
       "         6.45863256e-01,  3.73229218e-01,  6.17627160e-01,\n",
       "        -1.01857744e+00],\n",
       "       [ 1.19729114e+00,  2.09035169e+00,  1.07301951e+01,\n",
       "        -1.70560576e+00, -4.74775883e-01, -8.38095811e-01,\n",
       "        -9.71567455e-01, -5.78213434e-01, -8.79224768e-01,\n",
       "        -1.01857744e+00],\n",
       "       [-1.18753724e+00, -8.18739670e-01, -4.41414004e-01,\n",
       "         8.62650488e-01, -1.63015705e-01, -6.13798537e-01,\n",
       "         8.59934967e-01, -2.84385556e-01,  3.52697615e-01,\n",
       "         9.81761387e-01],\n",
       "       [-4.58839681e-01, -9.14668296e-02, -4.41414004e-01,\n",
       "         7.94345801e-01,  5.00473906e-01, -1.12798084e-01,\n",
       "         7.88577730e-01,  2.96274297e-01,  6.70613069e-01,\n",
       "         9.81761387e-01],\n",
       "       [ 1.72725301e+00, -8.18739670e-01, -4.41414004e-01,\n",
       "        -4.41969042e-01, -9.62400778e-01, -6.72493151e-01,\n",
       "        -8.28852981e-01, -9.00024919e-01, -8.52731814e-01,\n",
       "        -1.01857744e+00],\n",
       "       [ 1.06480068e+00, -4.55103250e-01, -4.41414004e-01,\n",
       "         2.41077832e-01, -6.66628301e-01, -3.58057720e-01,\n",
       "        -4.95852540e-01, -5.71217532e-01, -6.27541701e-01,\n",
       "        -1.01857744e+00],\n",
       "       [ 4.02348347e-01, -4.55103250e-01, -4.41414004e-01,\n",
       "         5.41618457e-01, -2.02984958e-01, -1.16990557e-01,\n",
       "        -2.01376252e-02, -1.65455225e-01, -1.24175566e-01,\n",
       "        -1.01857744e+00],\n",
       "       [-1.25378248e+00,  2.72169591e-01, -4.41414004e-01,\n",
       "         9.37785644e-01,  2.51492429e+00,  1.86604889e+00,\n",
       "         1.62107883e+00,  2.35306944e+00,  2.32642272e+00,\n",
       "         9.81761387e-01],\n",
       "       [ 3.36103114e-01, -4.55103250e-01, -4.41414004e-01,\n",
       "         3.50365332e-01, -7.06597555e-01, -5.55103923e-01,\n",
       "        -3.76923811e-01, -6.69160158e-01, -5.87802269e-01,\n",
       "        -1.01857744e+00],\n",
       "       [ 1.46227207e+00,  9.99442431e-01, -4.41414004e-01,\n",
       "         4.32330957e-01, -9.10710479e-02,  1.29760879e-02,\n",
       "        -4.39233710e-02, -3.95289915e-02, -8.44361341e-02,\n",
       "        -1.01857744e+00],\n",
       "       [ 6.01084046e-01,  6.35806011e-01, -2.41920984e-01,\n",
       "        -5.37595604e-01, -9.14437674e-01, -3.89501263e-01,\n",
       "        -7.57495743e-01, -8.02082293e-01, -8.39485337e-01,\n",
       "        -1.01857744e+00],\n",
       "       [ 2.69857881e-01, -9.14668296e-02, -3.74916331e-01,\n",
       "         3.57195801e-01,  1.44374829e+00,  1.00868828e+00,\n",
       "        -3.29352320e-01,  1.32467187e+00,  1.01014547e-01,\n",
       "         9.81761387e-01],\n",
       "       [-1.65125387e+00, -8.18739670e-01, -4.41414004e-01,\n",
       "         1.02658174e+00,  1.00408650e+00,  7.79594102e-02,\n",
       "         1.66865032e+00,  7.37016114e-01,  1.51838761e+00,\n",
       "         9.81761387e-01],\n",
       "       [ 7.11221826e-02,  6.35806011e-01,  2.90060404e-01,\n",
       "        -3.19020605e-01,  5.00473906e-01,  1.66001331e-01,\n",
       "        -7.33709998e-01,  3.59237414e-01, -5.87802269e-01,\n",
       "         9.81761387e-01],\n",
       "       [-8.56311079e-01,  1.36307885e+00, -4.41414004e-01,\n",
       "         7.60193457e-01, -2.50948063e-01, -3.20325469e-01,\n",
       "         1.05022093e+00, -2.91381458e-01,  4.45422956e-01,\n",
       "         9.81761387e-01],\n",
       "       [ 2.03612648e-01, -9.14668296e-02, -3.74916331e-01,\n",
       "         2.68399707e-01, -1.86997257e-01,  2.81294322e-01,\n",
       "        -4.48281049e-01, -4.54948219e-03, -3.89105111e-01,\n",
       "        -1.01857744e+00],\n",
       "       [ 7.33574512e-01, -9.14668296e-02, -4.41414004e-01,\n",
       "         6.23584082e-01,  9.64117249e-01,  1.64175162e+00,\n",
       "         2.17719832e-01,  1.28969236e+00,  6.57366591e-01,\n",
       "        -1.01857744e+00],\n",
       "       [-6.13682833e-02, -8.18739670e-01,  4.23055751e-01,\n",
       "        -8.92779979e-01, -8.42493017e-01, -8.61154409e-01,\n",
       "        -8.76424472e-01, -8.86033116e-01, -8.65978291e-01,\n",
       "        -1.01857744e+00],\n",
       "       [ 1.32978161e+00,  2.45398811e+00,  8.26978122e+00,\n",
       "        -2.07445107e+00, -9.70394629e-01, -8.71635590e-01,\n",
       "        -1.04292469e+00, -9.69983938e-01, -9.05717723e-01,\n",
       "        -1.01857744e+00],\n",
       "       [-1.27613516e-01,  9.99442431e-01, -2.41920984e-01,\n",
       "        -2.53104486e-02, -2.66935764e-01, -3.52373448e-02,\n",
       "        -5.90995523e-01, -1.72451127e-01, -5.74555792e-01,\n",
       "        -1.01857744e+00],\n",
       "       [-1.84998957e+00, -4.55103250e-01, -4.41414004e-01,\n",
       "         1.08122549e+00, -3.06905018e-01, -5.71873813e-01,\n",
       "         2.16815098e+00, -4.17307692e-01,  8.69310227e-01,\n",
       "         9.81761387e-01],\n",
       "       [ 1.66100777e+00,  9.99442431e-01, -4.41414004e-01,\n",
       "         1.72773145e-01, -2.26966510e-01, -4.27233515e-01,\n",
       "        -4.48281049e-01, -3.33356869e-01, -4.95076928e-01,\n",
       "         9.81761387e-01],\n",
       "       [ 2.69857881e-01,  2.45398811e+00, -1.75423310e-01,\n",
       "        -6.33222167e-01, -3.30886570e-01,  4.74148053e-01,\n",
       "        -6.86138506e-01, -8.15044026e-02, -6.40788178e-01,\n",
       "        -1.01857744e+00],\n",
       "       [-5.91330147e-01, -4.55103250e-01, -4.41414004e-01,\n",
       "         8.21667676e-01,  2.11523175e+00,  1.65223280e+00,\n",
       "         7.88577730e-01,  2.02426206e+00,  1.47864818e+00,\n",
       "         9.81761387e-01],\n",
       "       [-4.58839681e-01, -4.55103250e-01, -4.41414004e-01,\n",
       "         5.96262207e-01, -5.06751286e-01, -6.34760899e-01,\n",
       "         7.50053577e-02, -5.85209336e-01, -2.69886815e-01,\n",
       "         9.81761387e-01],\n",
       "       [ 9.32310211e-01,  1.72671527e+00,  2.40697100e-02,\n",
       "        -9.81576073e-01, -9.62400778e-01, -8.27614630e-01,\n",
       "        -8.05067235e-01, -9.48996232e-01, -8.52731814e-01,\n",
       "        -1.01857744e+00],\n",
       "       [-5.25084914e-01,  9.99442431e-01, -3.74916331e-01,\n",
       "         1.52281739e-01, -8.26505316e-01, -7.01840458e-01,\n",
       "        -7.09924252e-01, -8.02082293e-01, -8.26238859e-01,\n",
       "         9.81761387e-01],\n",
       "       [ 7.33574512e-01, -9.14668296e-02, -4.41414004e-01,\n",
       "         6.23584082e-01, -2.02984958e-01, -2.17609895e-01,\n",
       "         2.17719832e-01, -2.14426538e-01,  2.15356839e-02,\n",
       "        -1.01857744e+00],\n",
       "       [ 1.37367416e-01, -9.14668296e-02, -3.08418657e-01,\n",
       "        -6.94696386e-01, -8.66474569e-01, -6.74589387e-01,\n",
       "        -8.28852981e-01, -8.23069999e-01, -8.52731814e-01,\n",
       "         9.81761387e-01],\n",
       "       [ 4.68593580e-01, -8.18739670e-01,  2.40697100e-02,\n",
       "        -7.42509667e-01, -6.90609853e-01, -8.25518394e-01,\n",
       "        -8.52638726e-01, -7.53110980e-01, -8.52731814e-01,\n",
       "        -1.01857744e+00],\n",
       "       [ 1.32978161e+00,  2.09035169e+00, -4.41414004e-01,\n",
       "         5.07466114e-01,  2.58686895e+00,  3.17619652e+00,\n",
       "        -6.77091167e-02,  2.98969651e+00,  8.29570795e-01,\n",
       "        -1.01857744e+00],\n",
       "       [ 4.02348347e-01, -9.14668296e-02, -4.41414004e-01,\n",
       "         5.89431738e-01,  7.40289429e-01,  6.11895206e-02,\n",
       "         1.22576849e-01,  5.13147255e-01,  2.86465229e-01,\n",
       "         9.81761387e-01],\n",
       "       [-1.38627294e+00, -2.63692177e+00, -3.74916331e-01,\n",
       "         4.39161426e-01,  8.20227936e-01,  7.82294775e-01,\n",
       "        -4.72066794e-01,  8.62942348e-01, -1.77161475e-01,\n",
       "         9.81761387e-01],\n",
       "       [-1.93858749e-01,  2.72169591e-01,  9.05673835e-02,\n",
       "        -2.23394042e-01, -6.10671346e-01, -8.46480756e-01,\n",
       "        -7.33709998e-01, -6.90147864e-01, -8.12992382e-01,\n",
       "         9.81761387e-01],\n",
       "       [-1.65125387e+00,  2.72169591e-01, -4.41414004e-01,\n",
       "         1.00609033e+00,  3.72998960e+00,  2.48443857e+00,\n",
       "         2.00165076e+00,  3.31850390e+00,  3.09471840e+00,\n",
       "         9.81761387e-01],\n",
       "       [ 9.32310211e-01,  3.90853379e+00,  5.07789289e+00,\n",
       "        -2.05395967e+00, -1.08230854e+00, -8.73731826e-01,\n",
       "        -1.01913895e+00, -1.04693886e+00, -9.05717723e-01,\n",
       "        -1.01857744e+00]])"
      ]
     },
     "execution_count": 72,
     "metadata": {},
     "output_type": "execute_result"
    }
   ],
   "source": [
    "X_test"
   ]
  },
  {
   "cell_type": "markdown",
   "id": "0ee507de",
   "metadata": {},
   "source": [
    "# Model Training"
   ]
  },
  {
   "cell_type": "code",
   "execution_count": 73,
   "id": "09f79d28",
   "metadata": {},
   "outputs": [
    {
     "data": {
      "text/plain": [
       "LinearRegression()"
      ]
     },
     "execution_count": 73,
     "metadata": {},
     "output_type": "execute_result"
    }
   ],
   "source": [
    "from sklearn.linear_model import LinearRegression\n",
    "regression=LinearRegression()\n",
    "regression"
   ]
  },
  {
   "cell_type": "code",
   "execution_count": 74,
   "id": "d7e5b01d",
   "metadata": {},
   "outputs": [
    {
     "data": {
      "text/plain": [
       "LinearRegression()"
      ]
     },
     "execution_count": 74,
     "metadata": {},
     "output_type": "execute_result"
    }
   ],
   "source": [
    "regression.fit(X_train,Y_train)  #fit=we are finding parameters X_train is independent feature and Y_train is dependent"
   ]
  },
  {
   "cell_type": "code",
   "execution_count": 75,
   "id": "31899f0a",
   "metadata": {},
   "outputs": [
    {
     "name": "stdout",
     "output_type": "stream",
     "text": [
      "[[-1.1894053  -0.52898776 -0.25118608  1.04392398 -0.29452097  0.79642928\n",
      "  -0.02843277 -0.28406498  0.36267227  0.28769993]]\n"
     ]
    }
   ],
   "source": [
    "#print the co-efficients and the intercepts\n",
    "print(regression.coef_)"
   ]
  },
  {
   "cell_type": "code",
   "execution_count": 76,
   "id": "321f4e98",
   "metadata": {},
   "outputs": [
    {
     "name": "stdout",
     "output_type": "stream",
     "text": [
      "[32.17791411]\n"
     ]
    }
   ],
   "source": [
    "print(regression.intercept_)  #if all the independent features are 0 then price of the house as per model is 32"
   ]
  },
  {
   "cell_type": "code",
   "execution_count": 77,
   "id": "bf1a1142",
   "metadata": {},
   "outputs": [
    {
     "data": {
      "text/plain": [
       "array([[31.85520805],\n",
       "       [33.32023288],\n",
       "       [33.21807046],\n",
       "       [31.54962426],\n",
       "       [32.83392397],\n",
       "       [34.84042006],\n",
       "       [33.80989281],\n",
       "       [34.26949295],\n",
       "       [31.81859967],\n",
       "       [32.79240656],\n",
       "       [33.76738688],\n",
       "       [27.66324428],\n",
       "       [35.38696287],\n",
       "       [29.66313126],\n",
       "       [31.88093798],\n",
       "       [32.11785121],\n",
       "       [34.18507382],\n",
       "       [28.01661619],\n",
       "       [36.079289  ],\n",
       "       [34.34726558],\n",
       "       [32.59530447],\n",
       "       [34.70784276],\n",
       "       [33.52976523],\n",
       "       [32.9881793 ],\n",
       "       [35.84879978],\n",
       "       [29.16181646],\n",
       "       [32.31092863],\n",
       "       [32.73296243],\n",
       "       [27.54582691],\n",
       "       [32.162335  ],\n",
       "       [25.91964205],\n",
       "       [27.35561207],\n",
       "       [33.74009217],\n",
       "       [32.08124527],\n",
       "       [32.83052364],\n",
       "       [31.011581  ],\n",
       "       [28.94458723],\n",
       "       [32.74881628],\n",
       "       [27.70426299],\n",
       "       [35.38114518],\n",
       "       [32.75643987],\n",
       "       [34.10208364],\n",
       "       [33.96589922],\n",
       "       [31.57457004],\n",
       "       [36.52970822],\n",
       "       [33.90941063],\n",
       "       [24.22458771],\n",
       "       [35.06076345],\n",
       "       [33.89400607],\n",
       "       [29.63088774],\n",
       "       [31.08161566],\n",
       "       [32.29248998],\n",
       "       [35.77219257],\n",
       "       [31.95611165],\n",
       "       [30.19815208],\n",
       "       [30.23719554],\n",
       "       [32.70268167],\n",
       "       [36.10026741],\n",
       "       [31.32399101],\n",
       "       [33.69552296],\n",
       "       [32.21746521],\n",
       "       [32.71203643],\n",
       "       [30.87753145],\n",
       "       [24.33058584],\n",
       "       [31.45027547],\n",
       "       [36.14819612],\n",
       "       [29.90177694],\n",
       "       [29.93414116],\n",
       "       [35.00480545],\n",
       "       [33.69011778],\n",
       "       [28.43934212],\n",
       "       [32.44218862],\n",
       "       [31.77159183],\n",
       "       [31.3636683 ],\n",
       "       [30.45430062],\n",
       "       [31.05933094],\n",
       "       [32.54173834],\n",
       "       [36.14223846],\n",
       "       [31.71876528],\n",
       "       [36.4444662 ],\n",
       "       [24.90952834]])"
      ]
     },
     "execution_count": 77,
     "metadata": {},
     "output_type": "execute_result"
    }
   ],
   "source": [
    "##Prediction for the test data\n",
    "reg_pred=regression.predict(X_test)\n",
    "reg_pred"
   ]
  },
  {
   "cell_type": "code",
   "execution_count": 78,
   "id": "870c1372",
   "metadata": {},
   "outputs": [
    {
     "data": {
      "text/plain": [
       "<seaborn.axisgrid.FacetGrid at 0x269b0cd29d0>"
      ]
     },
     "execution_count": 78,
     "metadata": {},
     "output_type": "execute_result"
    },
    {
     "data": {
      "image/png": "[encoded data removed]",
      "text/plain": [
       "<Figure size 458.875x360 with 1 Axes>"
      ]
     },
     "metadata": {
      "needs_background": "light"
     },
     "output_type": "display_data"
    }
   ],
   "source": [
    "import seaborn as sns\n",
    "sns.displot(reg_pred-Y_test,kind='kde')"
   ]
  },
  {
   "cell_type": "markdown",
   "id": "a8c04f64",
   "metadata": {},
   "source": [
    "# Assumptions of Linear Regression"
   ]
  },
  {
   "cell_type": "code",
   "execution_count": 79,
   "id": "b973f35c",
   "metadata": {},
   "outputs": [
    {
     "data": {
      "text/plain": [
       "Text(0, 0.5, 'Test Predicted Data')"
      ]
     },
     "execution_count": 79,
     "metadata": {},
     "output_type": "execute_result"
    },
    {
     "data": {
      "image/png": "[encoded data removed]",
      "text/plain": [
       "<Figure size 360x360 with 1 Axes>"
      ]
     },
     "metadata": {
      "needs_background": "light"
     },
     "output_type": "display_data"
    }
   ],
   "source": [
    "#relation bet truth point and predicted point\n",
    "plt.figure(figsize=(5,5))\n",
    "plt.scatter(Y_test,reg_pred)\n",
    "plt.xlabel(\"Test Truth Data\")\n",
    "plt.ylabel(\"Test Predicted Data\")"
   ]
  },
  {
   "cell_type": "markdown",
   "id": "edb199c7",
   "metadata": {},
   "source": [
    "# Residuals"
   ]
  },
  {
   "cell_type": "code",
   "execution_count": 80,
   "id": "de637945",
   "metadata": {},
   "outputs": [
    {
     "data": {
      "text/html": [
       "<div>\n",
       "<style scoped>\n",
       "    .dataframe tbody tr th:only-of-type {\n",
       "        vertical-align: middle;\n",
       "    }\n",
       "\n",
       "    .dataframe tbody tr th {\n",
       "        vertical-align: top;\n",
       "    }\n",
       "\n",
       "    .dataframe thead th {\n",
       "        text-align: right;\n",
       "    }\n",
       "</style>\n",
       "<table border=\"1\" class=\"dataframe\">\n",
       "  <thead>\n",
       "    <tr style=\"text-align: right;\">\n",
       "      <th></th>\n",
       "      <th>Temperature</th>\n",
       "    </tr>\n",
       "  </thead>\n",
       "  <tbody>\n",
       "    <tr>\n",
       "      <th>162</th>\n",
       "      <td>2.144792</td>\n",
       "    </tr>\n",
       "    <tr>\n",
       "      <th>60</th>\n",
       "      <td>1.679767</td>\n",
       "    </tr>\n",
       "    <tr>\n",
       "      <th>61</th>\n",
       "      <td>2.781930</td>\n",
       "    </tr>\n",
       "    <tr>\n",
       "      <th>63</th>\n",
       "      <td>3.450376</td>\n",
       "    </tr>\n",
       "    <tr>\n",
       "      <th>69</th>\n",
       "      <td>2.166076</td>\n",
       "    </tr>\n",
       "    <tr>\n",
       "      <th>...</th>\n",
       "      <td>...</td>\n",
       "    </tr>\n",
       "    <tr>\n",
       "      <th>169</th>\n",
       "      <td>0.458262</td>\n",
       "    </tr>\n",
       "    <tr>\n",
       "      <th>232</th>\n",
       "      <td>-7.142238</td>\n",
       "    </tr>\n",
       "    <tr>\n",
       "      <th>144</th>\n",
       "      <td>1.281235</td>\n",
       "    </tr>\n",
       "    <tr>\n",
       "      <th>208</th>\n",
       "      <td>-3.444466</td>\n",
       "    </tr>\n",
       "    <tr>\n",
       "      <th>105</th>\n",
       "      <td>-2.909528</td>\n",
       "    </tr>\n",
       "  </tbody>\n",
       "</table>\n",
       "<p>81 rows × 1 columns</p>\n",
       "</div>"
      ],
      "text/plain": [
       "     Temperature\n",
       "162     2.144792\n",
       "60      1.679767\n",
       "61      2.781930\n",
       "63      3.450376\n",
       "69      2.166076\n",
       "..           ...\n",
       "169     0.458262\n",
       "232    -7.142238\n",
       "144     1.281235\n",
       "208    -3.444466\n",
       "105    -2.909528\n",
       "\n",
       "[81 rows x 1 columns]"
      ]
     },
     "execution_count": 80,
     "metadata": {},
     "output_type": "execute_result"
    }
   ],
   "source": [
    "## Residuels=errors\n",
    "residuals=Y_test-reg_pred\n",
    "residuals"
   ]
  },
  {
   "cell_type": "code",
   "execution_count": 81,
   "id": "4b631f85",
   "metadata": {},
   "outputs": [
    {
     "data": {
      "text/plain": [
       "<seaborn.axisgrid.FacetGrid at 0x269b0db1f10>"
      ]
     },
     "execution_count": 81,
     "metadata": {},
     "output_type": "execute_result"
    },
    {
     "data": {
      "image/png": "[encoded data removed]",
      "text/plain": [
       "<Figure size 458.875x360 with 1 Axes>"
      ]
     },
     "metadata": {
      "needs_background": "light"
     },
     "output_type": "display_data"
    }
   ],
   "source": [
    "sns.displot(residuals,kind=\"kde\")"
   ]
  },
  {
   "cell_type": "markdown",
   "id": "500f81b2",
   "metadata": {},
   "source": [
    "We have outliers on Left side as its Left skewed and its approx normally distributed"
   ]
  },
  {
   "cell_type": "markdown",
   "id": "deaa64b3",
   "metadata": {
    "raw_mimetype": "text/restructuredtext"
   },
   "source": [
    "# Scatter plot with predictions and residuels"
   ]
  },
  {
   "cell_type": "code",
   "execution_count": 82,
   "id": "f0d6afc6",
   "metadata": {},
   "outputs": [
    {
     "data": {
      "text/plain": [
       "<matplotlib.collections.PathCollection at 0x269b22d03a0>"
      ]
     },
     "execution_count": 82,
     "metadata": {},
     "output_type": "execute_result"
    },
    {
     "data": {
      "image/png": "[encoded data removed]",
      "text/plain": [
       "<Figure size 648x648 with 1 Axes>"
      ]
     },
     "metadata": {
      "needs_background": "light"
     },
     "output_type": "display_data"
    }
   ],
   "source": [
    "##Uniform Distribution\n",
    "plt.figure(figsize=(9,9))\n",
    "plt.scatter(reg_pred,residuals)"
   ]
  },
  {
   "cell_type": "markdown",
   "id": "373c05ee",
   "metadata": {},
   "source": [
    "It does not have any perticular shape so this model is a bad model\n",
    "#Homosedacity"
   ]
  },
  {
   "cell_type": "markdown",
   "id": "bf86d78f",
   "metadata": {},
   "source": [
    "# Performance Metrix"
   ]
  },
  {
   "cell_type": "code",
   "execution_count": 83,
   "id": "8487b7fc",
   "metadata": {},
   "outputs": [
    {
     "name": "stdout",
     "output_type": "stream",
     "text": [
      "7.143465572113116\n",
      "2.182733343742494\n",
      "2.672726243391402\n"
     ]
    }
   ],
   "source": [
    "## Performance Metrics\n",
    "from sklearn.metrics import mean_squared_error\n",
    "from sklearn.metrics import mean_absolute_error\n",
    "print(mean_squared_error(Y_test,reg_pred))\n",
    "print(mean_absolute_error(Y_test,reg_pred))\n",
    "print(np.sqrt(mean_squared_error(Y_test,reg_pred)))"
   ]
  },
  {
   "cell_type": "markdown",
   "id": "ad770c91",
   "metadata": {},
   "source": [
    "# R square and adjusted R square"
   ]
  },
  {
   "cell_type": "code",
   "execution_count": 84,
   "id": "9e708d58",
   "metadata": {},
   "outputs": [
    {
     "name": "stdout",
     "output_type": "stream",
     "text": [
      "0.527623237531152\n"
     ]
    }
   ],
   "source": [
    "##R square and adjusted R square\n",
    "from sklearn.metrics import r2_score\n",
    "score=r2_score(Y_test,reg_pred)\n",
    "print(score)"
   ]
  },
  {
   "cell_type": "code",
   "execution_count": 85,
   "id": "e602d2dc",
   "metadata": {},
   "outputs": [
    {
     "data": {
      "text/plain": [
       "0.46014084289274526"
      ]
     },
     "execution_count": 85,
     "metadata": {},
     "output_type": "execute_result"
    }
   ],
   "source": [
    "##Adjusted R square\n",
    "\n",
    "1 - (1-score)*(len(Y_test)-1)/(len(Y_test)-X_test.shape[1]-1)"
   ]
  },
  {
   "cell_type": "markdown",
   "id": "5b4500bd",
   "metadata": {},
   "source": [
    "# Ridge Regression Algorithm"
   ]
  },
  {
   "cell_type": "code",
   "execution_count": 86,
   "id": "fe43a021",
   "metadata": {},
   "outputs": [
    {
     "data": {
      "text/plain": [
       "Ridge(alpha=1)"
      ]
     },
     "execution_count": 86,
     "metadata": {},
     "output_type": "execute_result"
    }
   ],
   "source": [
    "from sklearn.linear_model import Ridge\n",
    "ridge=Ridge(alpha = 1)\n",
    "ridge.fit(X_train,Y_train)"
   ]
  },
  {
   "cell_type": "code",
   "execution_count": 87,
   "id": "a61c8c82",
   "metadata": {
    "scrolled": true
   },
   "outputs": [
    {
     "name": "stdout",
     "output_type": "stream",
     "text": [
      "[[-1.18128511 -0.52862917 -0.25338075  1.02428349 -0.31526923  0.71277554\n",
      "   0.04021199 -0.12974761  0.26387856  0.27825681]]\n"
     ]
    }
   ],
   "source": [
    "#print the co-efficients and the intercepts\n",
    "print(ridge.coef_)"
   ]
  },
  {
   "cell_type": "code",
   "execution_count": 88,
   "id": "3a24f853",
   "metadata": {},
   "outputs": [
    {
     "name": "stdout",
     "output_type": "stream",
     "text": [
      "[32.17791411]\n"
     ]
    }
   ],
   "source": [
    "print(ridge.intercept_)"
   ]
  },
  {
   "cell_type": "code",
   "execution_count": 89,
   "id": "7e95aba2",
   "metadata": {},
   "outputs": [],
   "source": [
    "##Prediction for the test data\n",
    "ridge_pred=ridge.predict(X_test)"
   ]
  },
  {
   "cell_type": "code",
   "execution_count": 90,
   "id": "0e11be26",
   "metadata": {},
   "outputs": [
    {
     "data": {
      "text/plain": [
       "array([[31.848778  ],\n",
       "       [33.30617413],\n",
       "       [33.20848669],\n",
       "       [31.55614175],\n",
       "       [32.82680289],\n",
       "       [34.82048931],\n",
       "       [33.76534956],\n",
       "       [34.1985969 ],\n",
       "       [31.82091066],\n",
       "       [32.79016762],\n",
       "       [33.76425293],\n",
       "       [27.67268602],\n",
       "       [35.36088538],\n",
       "       [29.64001932],\n",
       "       [31.87642562],\n",
       "       [32.11913244],\n",
       "       [34.15895855],\n",
       "       [28.03387827],\n",
       "       [36.09670685],\n",
       "       [34.36300079],\n",
       "       [32.58971075],\n",
       "       [34.61731153],\n",
       "       [33.52136283],\n",
       "       [32.99042509],\n",
       "       [35.87194784],\n",
       "       [29.17868097],\n",
       "       [32.26521899],\n",
       "       [32.74322302],\n",
       "       [27.56672317],\n",
       "       [32.17126894],\n",
       "       [25.93574764],\n",
       "       [27.35942807],\n",
       "       [33.73488256],\n",
       "       [32.07553167],\n",
       "       [32.82019645],\n",
       "       [30.98636133],\n",
       "       [28.94458482],\n",
       "       [32.72641426],\n",
       "       [27.7179228 ],\n",
       "       [35.34398646],\n",
       "       [32.72783516],\n",
       "       [34.10577155],\n",
       "       [33.98602329],\n",
       "       [31.548194  ],\n",
       "       [36.50598562],\n",
       "       [33.90299598],\n",
       "       [24.26552879],\n",
       "       [35.06061074],\n",
       "       [33.8989956 ],\n",
       "       [29.62857092],\n",
       "       [31.07954622],\n",
       "       [32.29489468],\n",
       "       [35.77166839],\n",
       "       [31.95241511],\n",
       "       [30.21251122],\n",
       "       [30.22173133],\n",
       "       [32.74687276],\n",
       "       [36.10901733],\n",
       "       [31.36002657],\n",
       "       [33.68095074],\n",
       "       [32.21157113],\n",
       "       [32.70798138],\n",
       "       [30.88114425],\n",
       "       [24.33572827],\n",
       "       [31.45831195],\n",
       "       [36.15623184],\n",
       "       [29.91107197],\n",
       "       [29.93048232],\n",
       "       [35.01372703],\n",
       "       [33.67133391],\n",
       "       [28.44811167],\n",
       "       [32.41182377],\n",
       "       [31.77799907],\n",
       "       [31.344545  ],\n",
       "       [30.47484498],\n",
       "       [31.12688317],\n",
       "       [32.56391621],\n",
       "       [36.14876702],\n",
       "       [31.71913964],\n",
       "       [36.46163664],\n",
       "       [24.91082217]])"
      ]
     },
     "execution_count": 90,
     "metadata": {},
     "output_type": "execute_result"
    }
   ],
   "source": [
    "ridge_pred"
   ]
  },
  {
   "cell_type": "code",
   "execution_count": 91,
   "id": "abb0b866",
   "metadata": {},
   "outputs": [
    {
     "data": {
      "text/plain": [
       "<seaborn.axisgrid.FacetGrid at 0x269b22f51c0>"
      ]
     },
     "execution_count": 91,
     "metadata": {},
     "output_type": "execute_result"
    },
    {
     "data": {
      "image/png": "[encoded data removed]",
      "text/plain": [
       "<Figure size 458.875x360 with 1 Axes>"
      ]
     },
     "metadata": {
      "needs_background": "light"
     },
     "output_type": "display_data"
    }
   ],
   "source": [
    "import seaborn as sns\n",
    "sns.displot(ridge_pred-Y_test,kind='kde')"
   ]
  },
  {
   "cell_type": "markdown",
   "id": "b8cd25e5",
   "metadata": {},
   "source": [
    "We have outliers on Right side as its Right skewed and its approx normally distributed"
   ]
  },
  {
   "cell_type": "markdown",
   "id": "5d9dcf0f",
   "metadata": {},
   "source": [
    "# Assumptions of Ridge Regression"
   ]
  },
  {
   "cell_type": "code",
   "execution_count": 92,
   "id": "28bd8aff",
   "metadata": {},
   "outputs": [
    {
     "data": {
      "text/plain": [
       "Text(0, 0.5, 'Test Predicted Data')"
      ]
     },
     "execution_count": 92,
     "metadata": {},
     "output_type": "execute_result"
    },
    {
     "data": {
      "image/png": "[encoded data removed]",
      "text/plain": [
       "<Figure size 360x360 with 1 Axes>"
      ]
     },
     "metadata": {
      "needs_background": "light"
     },
     "output_type": "display_data"
    }
   ],
   "source": [
    "#relation bet truth point and predicted point\n",
    "plt.figure(figsize=(5,5))\n",
    "plt.scatter(Y_test,ridge_pred)\n",
    "plt.xlabel(\"Test Truth Data\")\n",
    "plt.ylabel(\"Test Predicted Data\")"
   ]
  },
  {
   "cell_type": "code",
   "execution_count": 93,
   "id": "8b1979f6",
   "metadata": {},
   "outputs": [
    {
     "data": {
      "text/html": [
       "<div>\n",
       "<style scoped>\n",
       "    .dataframe tbody tr th:only-of-type {\n",
       "        vertical-align: middle;\n",
       "    }\n",
       "\n",
       "    .dataframe tbody tr th {\n",
       "        vertical-align: top;\n",
       "    }\n",
       "\n",
       "    .dataframe thead th {\n",
       "        text-align: right;\n",
       "    }\n",
       "</style>\n",
       "<table border=\"1\" class=\"dataframe\">\n",
       "  <thead>\n",
       "    <tr style=\"text-align: right;\">\n",
       "      <th></th>\n",
       "      <th>Temperature</th>\n",
       "    </tr>\n",
       "  </thead>\n",
       "  <tbody>\n",
       "    <tr>\n",
       "      <th>162</th>\n",
       "      <td>2.151222</td>\n",
       "    </tr>\n",
       "    <tr>\n",
       "      <th>60</th>\n",
       "      <td>1.693826</td>\n",
       "    </tr>\n",
       "    <tr>\n",
       "      <th>61</th>\n",
       "      <td>2.791513</td>\n",
       "    </tr>\n",
       "    <tr>\n",
       "      <th>63</th>\n",
       "      <td>3.443858</td>\n",
       "    </tr>\n",
       "    <tr>\n",
       "      <th>69</th>\n",
       "      <td>2.173197</td>\n",
       "    </tr>\n",
       "    <tr>\n",
       "      <th>...</th>\n",
       "      <td>...</td>\n",
       "    </tr>\n",
       "    <tr>\n",
       "      <th>169</th>\n",
       "      <td>0.436084</td>\n",
       "    </tr>\n",
       "    <tr>\n",
       "      <th>232</th>\n",
       "      <td>-7.148767</td>\n",
       "    </tr>\n",
       "    <tr>\n",
       "      <th>144</th>\n",
       "      <td>1.280860</td>\n",
       "    </tr>\n",
       "    <tr>\n",
       "      <th>208</th>\n",
       "      <td>-3.461637</td>\n",
       "    </tr>\n",
       "    <tr>\n",
       "      <th>105</th>\n",
       "      <td>-2.910822</td>\n",
       "    </tr>\n",
       "  </tbody>\n",
       "</table>\n",
       "<p>81 rows × 1 columns</p>\n",
       "</div>"
      ],
      "text/plain": [
       "     Temperature\n",
       "162     2.151222\n",
       "60      1.693826\n",
       "61      2.791513\n",
       "63      3.443858\n",
       "69      2.173197\n",
       "..           ...\n",
       "169     0.436084\n",
       "232    -7.148767\n",
       "144     1.280860\n",
       "208    -3.461637\n",
       "105    -2.910822\n",
       "\n",
       "[81 rows x 1 columns]"
      ]
     },
     "execution_count": 93,
     "metadata": {},
     "output_type": "execute_result"
    }
   ],
   "source": [
    "## Residuels=errors\n",
    "residual=Y_test-ridge_pred\n",
    "residual"
   ]
  },
  {
   "cell_type": "code",
   "execution_count": 94,
   "id": "bdd1704e",
   "metadata": {},
   "outputs": [
    {
     "data": {
      "text/plain": [
       "<seaborn.axisgrid.FacetGrid at 0x269b2292160>"
      ]
     },
     "execution_count": 94,
     "metadata": {},
     "output_type": "execute_result"
    },
    {
     "data": {
      "image/png": "[encoded data removed]",
      "text/plain": [
       "<Figure size 458.875x360 with 1 Axes>"
      ]
     },
     "metadata": {
      "needs_background": "light"
     },
     "output_type": "display_data"
    }
   ],
   "source": [
    "sns.displot(residual,kind=\"kde\")"
   ]
  },
  {
   "cell_type": "markdown",
   "id": "490f734a",
   "metadata": {},
   "source": [
    "We have outliers on Left side as its Left skewed and its approx normally distributed"
   ]
  },
  {
   "cell_type": "markdown",
   "id": "8de6ea21",
   "metadata": {},
   "source": [
    "# Scatter plot with predictions and residuels"
   ]
  },
  {
   "cell_type": "code",
   "execution_count": 95,
   "id": "81e4d02e",
   "metadata": {},
   "outputs": [
    {
     "data": {
      "text/plain": [
       "<matplotlib.collections.PathCollection at 0x269b2459c10>"
      ]
     },
     "execution_count": 95,
     "metadata": {},
     "output_type": "execute_result"
    },
    {
     "data": {
      "image/png": "[encoded data removed]",
      "text/plain": [
       "<Figure size 648x648 with 1 Axes>"
      ]
     },
     "metadata": {
      "needs_background": "light"
     },
     "output_type": "display_data"
    }
   ],
   "source": [
    "##Uniform Distribution\n",
    "plt.figure(figsize=(9,9))\n",
    "plt.scatter(ridge_pred,residuals)"
   ]
  },
  {
   "cell_type": "markdown",
   "id": "8811b19b",
   "metadata": {},
   "source": [
    "It does not have any perticular shape so this model is a bad model #Homosedacity"
   ]
  },
  {
   "cell_type": "markdown",
   "id": "13d7b7dc",
   "metadata": {},
   "source": [
    "# Performance Metrix"
   ]
  },
  {
   "cell_type": "code",
   "execution_count": 96,
   "id": "5a150ff7",
   "metadata": {},
   "outputs": [
    {
     "name": "stdout",
     "output_type": "stream",
     "text": [
      "7.123168367496653\n",
      "2.1812779084350145\n",
      "2.668926444752019\n"
     ]
    }
   ],
   "source": [
    "## Performance Metrics\n",
    "from sklearn.metrics import mean_squared_error\n",
    "from sklearn.metrics import mean_absolute_error\n",
    "print(mean_squared_error(Y_test,ridge_pred))\n",
    "print(mean_absolute_error(Y_test,ridge_pred))\n",
    "print(np.sqrt(mean_squared_error(Y_test,ridge_pred)))"
   ]
  },
  {
   "cell_type": "markdown",
   "id": "000e7c71",
   "metadata": {},
   "source": [
    "# R square and adjusted R square"
   ]
  },
  {
   "cell_type": "code",
   "execution_count": 97,
   "id": "4519d417",
   "metadata": {},
   "outputs": [
    {
     "name": "stdout",
     "output_type": "stream",
     "text": [
      "0.5289654330953502\n"
     ]
    }
   ],
   "source": [
    "##R square and adjusted R square\n",
    "from sklearn.metrics import r2_score\n",
    "score=r2_score(Y_test,ridge_pred)\n",
    "print(score)"
   ]
  },
  {
   "cell_type": "code",
   "execution_count": 98,
   "id": "5fed8b9b",
   "metadata": {},
   "outputs": [
    {
     "data": {
      "text/plain": [
       "0.46167478068040013"
      ]
     },
     "execution_count": 98,
     "metadata": {},
     "output_type": "execute_result"
    }
   ],
   "source": [
    "##Adjusted R square\n",
    "\n",
    "1 - (1-score)*(len(Y_test)-1)/(len(Y_test)-X_test.shape[1]-1)"
   ]
  },
  {
   "cell_type": "markdown",
   "id": "f83c407b",
   "metadata": {},
   "source": [
    "# Lasso Regression Algorithm"
   ]
  },
  {
   "cell_type": "code",
   "execution_count": 99,
   "id": "db47725c",
   "metadata": {},
   "outputs": [
    {
     "data": {
      "text/plain": [
       "Lasso(alpha=1)"
      ]
     },
     "execution_count": 99,
     "metadata": {},
     "output_type": "execute_result"
    }
   ],
   "source": [
    "from sklearn.linear_model import Lasso\n",
    "lasso = Lasso(alpha = 1)\n",
    "lasso.fit(X_train, Y_train)"
   ]
  },
  {
   "cell_type": "code",
   "execution_count": 100,
   "id": "413eb422",
   "metadata": {},
   "outputs": [
    {
     "name": "stdout",
     "output_type": "stream",
     "text": [
      "[-0.71955751 -0.         -0.          0.89582004  0.          0.\n",
      "  0.          0.          0.          0.        ]\n"
     ]
    }
   ],
   "source": [
    "#print the co-efficients and the intercepts\n",
    "print(lasso.coef_)"
   ]
  },
  {
   "cell_type": "code",
   "execution_count": 101,
   "id": "1e62e3a9",
   "metadata": {},
   "outputs": [
    {
     "name": "stdout",
     "output_type": "stream",
     "text": [
      "[32.17791411]\n"
     ]
    }
   ],
   "source": [
    "print(lasso.intercept_)"
   ]
  },
  {
   "cell_type": "code",
   "execution_count": 102,
   "id": "2ce43f78",
   "metadata": {},
   "outputs": [],
   "source": [
    "##Prediction for the test data\n",
    "lasso_pred=lasso.predict(X_test)"
   ]
  },
  {
   "cell_type": "code",
   "execution_count": 103,
   "id": "8f10441e",
   "metadata": {},
   "outputs": [
    {
     "data": {
      "text/plain": [
       "array([32.29700076, 32.6744027 , 33.06609539, 32.07346965, 32.92497671,\n",
       "       33.33947653, 33.32111992, 32.77042154, 32.11916885, 32.70983221,\n",
       "       33.15976154, 30.29861247, 34.17172792, 30.95174825, 33.0931383 ,\n",
       "       32.31497272, 32.93691477, 29.42489766, 34.46059856, 33.50695377,\n",
       "       32.46152593, 33.02899752, 33.30888217, 32.80645043, 34.5498142 ,\n",
       "       30.18680443, 32.38908351, 32.89121556, 29.47641605, 31.8492542 ,\n",
       "       29.50217524, 28.6091198 , 33.21226395, 32.70054654, 32.64380834,\n",
       "       31.80937418, 30.23515603, 32.53110125, 29.22810977, 33.62676377,\n",
       "       32.55104126, 33.23190428, 33.93112391, 31.84411936, 34.06445535,\n",
       "       33.20742879, 29.78847846, 33.80519505, 33.21966653, 30.53913152,\n",
       "       31.62769114, 32.373594  , 33.92016988, 32.24993288, 31.51301599,\n",
       "       31.26381066, 32.303719  , 34.28571873, 31.84095256, 33.47507571,\n",
       "       32.27184094, 32.20868418, 31.42230192, 29.36272493, 32.24706577,\n",
       "       34.47767146, 31.13749714, 31.41648274, 33.33947653, 33.04221928,\n",
       "       30.62774778, 32.69215994, 32.20868418, 31.45674741, 31.17557904,\n",
       "       31.67565808, 32.4164261 , 33.56882682, 32.11728577, 34.26736212,\n",
       "       29.66708507])"
      ]
     },
     "execution_count": 103,
     "metadata": {},
     "output_type": "execute_result"
    }
   ],
   "source": [
    "lasso_pred"
   ]
  },
  {
   "cell_type": "markdown",
   "id": "8e7cb64b",
   "metadata": {},
   "source": [
    "# Assumption of Lasso Linear Regression"
   ]
  },
  {
   "cell_type": "code",
   "execution_count": 104,
   "id": "7e53bb71",
   "metadata": {},
   "outputs": [
    {
     "data": {
      "text/plain": [
       "Text(0, 0.5, 'Test Predicted Data')"
      ]
     },
     "execution_count": 104,
     "metadata": {},
     "output_type": "execute_result"
    },
    {
     "data": {
      "image/png": "[encoded data removed]",
      "text/plain": [
       "<Figure size 432x288 with 1 Axes>"
      ]
     },
     "metadata": {
      "needs_background": "light"
     },
     "output_type": "display_data"
    }
   ],
   "source": [
    "plt.scatter(Y_test, lasso_pred)\n",
    "plt.xlabel(\"Test Truth Data\")\n",
    "plt.ylabel(\"Test Predicted Data\")"
   ]
  },
  {
   "cell_type": "code",
   "execution_count": 105,
   "id": "5887fb70",
   "metadata": {},
   "outputs": [],
   "source": [
    "lasso_pred=lasso_pred.reshape(81,1)"
   ]
  },
  {
   "cell_type": "code",
   "execution_count": 106,
   "id": "cd1ca2c7",
   "metadata": {},
   "outputs": [],
   "source": [
    "residual=Y_test-lasso_pred"
   ]
  },
  {
   "cell_type": "code",
   "execution_count": 107,
   "id": "ff733c86",
   "metadata": {},
   "outputs": [
    {
     "data": {
      "text/plain": [
       "<seaborn.axisgrid.FacetGrid at 0x269b2404910>"
      ]
     },
     "execution_count": 107,
     "metadata": {},
     "output_type": "execute_result"
    },
    {
     "data": {
      "image/png": "[encoded data removed]",
      "text/plain": [
       "<Figure size 458.875x360 with 1 Axes>"
      ]
     },
     "metadata": {
      "needs_background": "light"
     },
     "output_type": "display_data"
    }
   ],
   "source": [
    "sns.displot(residual, kind='kde')"
   ]
  },
  {
   "cell_type": "markdown",
   "id": "01426fec",
   "metadata": {},
   "source": [
    "The graph is Left skewed and its approx normally distributed"
   ]
  },
  {
   "cell_type": "code",
   "execution_count": 108,
   "id": "f52e82bc",
   "metadata": {},
   "outputs": [
    {
     "data": {
      "text/plain": [
       "<matplotlib.collections.PathCollection at 0x269b26f2880>"
      ]
     },
     "execution_count": 108,
     "metadata": {},
     "output_type": "execute_result"
    },
    {
     "data": {
      "image/png": "[encoded data removed]",
      "text/plain": [
       "<Figure size 432x288 with 1 Axes>"
      ]
     },
     "metadata": {
      "needs_background": "light"
     },
     "output_type": "display_data"
    }
   ],
   "source": [
    "# Scatter plot with predictions and residual\n",
    "# Uniform distribution\n",
    "\n",
    "plt.scatter(lasso_pred, residual)\n",
    "\n"
   ]
  },
  {
   "cell_type": "code",
   "execution_count": 109,
   "id": "4602da8a",
   "metadata": {},
   "outputs": [
    {
     "name": "stdout",
     "output_type": "stream",
     "text": [
      "9.10609532182792\n",
      "2.4978660766652734\n",
      "3.0176307464346794\n"
     ]
    }
   ],
   "source": [
    "# performance Matrics\n",
    "\n",
    "from sklearn.metrics import mean_squared_error\n",
    "from sklearn.metrics import mean_absolute_error\n",
    "print(mean_squared_error(Y_test, lasso_pred))\n",
    "print(mean_absolute_error(Y_test, lasso_pred))\n",
    "print(np.sqrt(mean_squared_error(Y_test, lasso_pred)))"
   ]
  },
  {
   "cell_type": "markdown",
   "id": "e66d9704",
   "metadata": {},
   "source": [
    "# R squared and Adjusted R squared"
   ]
  },
  {
   "cell_type": "code",
   "execution_count": 110,
   "id": "27383b81",
   "metadata": {},
   "outputs": [
    {
     "name": "stdout",
     "output_type": "stream",
     "text": [
      "0.39784019626969913\n"
     ]
    }
   ],
   "source": [
    "from sklearn.metrics import r2_score\n",
    "score = r2_score(Y_test, lasso_pred)\n",
    "print(score)"
   ]
  },
  {
   "cell_type": "code",
   "execution_count": 111,
   "id": "88c96259",
   "metadata": {},
   "outputs": [
    {
     "data": {
      "text/plain": [
       "0.31181736716537045"
      ]
     },
     "execution_count": 111,
     "metadata": {},
     "output_type": "execute_result"
    }
   ],
   "source": [
    "## Adjusted R squared\n",
    "\n",
    "1 - (1-score)*(len(Y_test)-1)/(len(Y_test)-X_test.shape[1]-1)"
   ]
  },
  {
   "cell_type": "markdown",
   "id": "6311c70d",
   "metadata": {},
   "source": [
    "# ElasticNet Regression Algorithm"
   ]
  },
  {
   "cell_type": "code",
   "execution_count": 112,
   "id": "1fae320f",
   "metadata": {},
   "outputs": [
    {
     "data": {
      "text/plain": [
       "ElasticNet()"
      ]
     },
     "execution_count": 112,
     "metadata": {},
     "output_type": "execute_result"
    }
   ],
   "source": [
    "from sklearn.linear_model import ElasticNet\n",
    "elastic = ElasticNet()\n",
    "elastic.fit(X_train, Y_train)"
   ]
  },
  {
   "cell_type": "code",
   "execution_count": 113,
   "id": "8835ffdd",
   "metadata": {},
   "outputs": [],
   "source": [
    "# prediction for test data\n",
    "\n",
    "elastic_pred = elastic.predict(X_test)"
   ]
  },
  {
   "cell_type": "markdown",
   "id": "262f2e80",
   "metadata": {},
   "source": [
    "# Assumptions of ElasticNet regression"
   ]
  },
  {
   "cell_type": "code",
   "execution_count": 114,
   "id": "59158716",
   "metadata": {},
   "outputs": [
    {
     "data": {
      "text/plain": [
       "Text(0, 0.5, 'Test Predicted Data')"
      ]
     },
     "execution_count": 114,
     "metadata": {},
     "output_type": "execute_result"
    },
    {
     "data": {
      "image/png": "[encoded data removed]",
      "text/plain": [
       "<Figure size 432x288 with 1 Axes>"
      ]
     },
     "metadata": {
      "needs_background": "light"
     },
     "output_type": "display_data"
    }
   ],
   "source": [
    "plt.scatter(Y_test, elastic_pred)\n",
    "plt.xlabel(\"Test Truth Data\")\n",
    "plt.ylabel(\"Test Predicted Data\")"
   ]
  },
  {
   "cell_type": "code",
   "execution_count": 115,
   "id": "729138dd",
   "metadata": {},
   "outputs": [
    {
     "data": {
      "text/plain": [
       "(81,)"
      ]
     },
     "execution_count": 115,
     "metadata": {},
     "output_type": "execute_result"
    }
   ],
   "source": [
    "elastic_pred.shape"
   ]
  },
  {
   "cell_type": "code",
   "execution_count": 116,
   "id": "1614ae11",
   "metadata": {},
   "outputs": [],
   "source": [
    "elastic_pred=elastic_pred.reshape(81,1)"
   ]
  },
  {
   "cell_type": "code",
   "execution_count": 117,
   "id": "fbb44414",
   "metadata": {},
   "outputs": [],
   "source": [
    "# residuals\n",
    "\n",
    "residuals = Y_test - elastic_pred"
   ]
  },
  {
   "cell_type": "code",
   "execution_count": 118,
   "id": "a07bf919",
   "metadata": {},
   "outputs": [
    {
     "data": {
      "text/plain": [
       "<seaborn.axisgrid.FacetGrid at 0x269b279aeb0>"
      ]
     },
     "execution_count": 118,
     "metadata": {},
     "output_type": "execute_result"
    },
    {
     "data": {
      "image/png": "[encoded data removed]",
      "text/plain": [
       "<Figure size 458.875x360 with 1 Axes>"
      ]
     },
     "metadata": {
      "needs_background": "light"
     },
     "output_type": "display_data"
    }
   ],
   "source": [
    "sns.displot(residuals, kind='kde')"
   ]
  },
  {
   "cell_type": "markdown",
   "id": "3eb3cbcd",
   "metadata": {},
   "source": [
    "Graph is Left Skewed and almost normally distributed"
   ]
  },
  {
   "cell_type": "code",
   "execution_count": 119,
   "id": "4ce4bf5b",
   "metadata": {},
   "outputs": [
    {
     "data": {
      "text/plain": [
       "<matplotlib.collections.PathCollection at 0x269b2998040>"
      ]
     },
     "execution_count": 119,
     "metadata": {},
     "output_type": "execute_result"
    },
    {
     "data": {
      "image/png": "[encoded data removed]",
      "text/plain": [
       "<Figure size 432x288 with 1 Axes>"
      ]
     },
     "metadata": {
      "needs_background": "light"
     },
     "output_type": "display_data"
    }
   ],
   "source": [
    "# Scatter plot with predictions and residual\n",
    "# Uniform distribution\n",
    "\n",
    "plt.scatter(elastic_pred, residuals)"
   ]
  },
  {
   "cell_type": "markdown",
   "id": "e86e2197",
   "metadata": {},
   "source": [
    "Graph does not have any shape and its not uniform ,This model is a bad model"
   ]
  },
  {
   "cell_type": "code",
   "execution_count": 120,
   "id": "647d5564",
   "metadata": {},
   "outputs": [
    {
     "name": "stdout",
     "output_type": "stream",
     "text": [
      "8.30362464529687\n",
      "2.3892966420322015\n",
      "2.881601055888353\n"
     ]
    }
   ],
   "source": [
    "# performance Matrics\n",
    "\n",
    "from sklearn.metrics import mean_squared_error\n",
    "from sklearn.metrics import mean_absolute_error\n",
    "print(mean_squared_error(Y_test, elastic_pred))\n",
    "print(mean_absolute_error(Y_test, elastic_pred))\n",
    "print(np.sqrt(mean_squared_error(Y_test, elastic_pred)))"
   ]
  },
  {
   "cell_type": "markdown",
   "id": "08345361",
   "metadata": {},
   "source": [
    "# R squared and Adjusted R squared"
   ]
  },
  {
   "cell_type": "code",
   "execution_count": 121,
   "id": "1cb63726",
   "metadata": {},
   "outputs": [
    {
     "name": "stdout",
     "output_type": "stream",
     "text": [
      "0.4509052662037859\n"
     ]
    }
   ],
   "source": [
    "from sklearn.metrics import r2_score\n",
    "score = r2_score(Y_test, elastic_pred)\n",
    "print(score)"
   ]
  },
  {
   "cell_type": "code",
   "execution_count": 122,
   "id": "ca0d4f21",
   "metadata": {},
   "outputs": [
    {
     "data": {
      "text/plain": [
       "0.3724631613757553"
      ]
     },
     "execution_count": 122,
     "metadata": {},
     "output_type": "execute_result"
    }
   ],
   "source": [
    "## Adjusted R squared\n",
    "\n",
    "1 - (1-score)*(len(Y_test)-1)/(len(Y_test)-X_test.shape[1]-1)"
   ]
  },
  {
   "cell_type": "code",
   "execution_count": null,
   "id": "afae2d6f",
   "metadata": {},
   "outputs": [],
   "source": []
  }
 ],
 "metadata": {
  "celltoolbar": "Raw Cell Format",
  "kernelspec": {
   "display_name": "Python 3 (ipykernel)",
   "language": "python",
   "name": "python3"
  },
  "language_info": {
   "codemirror_mode": {
    "name": "ipython",
    "version": 3
   },
   "file_extension": ".py",
   "mimetype": "text/x-python",
   "name": "python",
   "nbconvert_exporter": "python",
   "pygments_lexer": "ipython3",
   "version": "3.9.12"
  }
 },
 "nbformat": 4,
 "nbformat_minor": 5
}
